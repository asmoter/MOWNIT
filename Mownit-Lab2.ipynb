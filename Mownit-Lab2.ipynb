{
 "cells": [
  {
   "cell_type": "markdown",
   "metadata": {},
   "source": [
    "## Mownit laboratorium 2\n",
    "### DataFrames"
   ]
  },
  {
   "cell_type": "markdown",
   "metadata": {},
   "source": [
    "- Zaawansowany pakiet do działania na tabelkach nxm danych \n",
    "- Podobne do pandas DataFrames w Pythonie albo data.frame w R\n",
    "- Specjalistyczne funkcje do statystyki\n",
    "- należy zaistalować pakiety:\n",
    "\n",
    "```julia\n",
    "Pkg.add(\"DataFrames\")\n",
    "```\n",
    "\n",
    "- DataFrame to rodzaj bazy danych in-memory\n",
    "- Składa się z kolumn, do których odwołujemy się używając symboli\n",
    "- Każda z kolumn może przechowywać inny typ (inaczej niż w dwuwymiarowych tablicach )\n",
    "- od wersji 0.11 każda z kolumn jest typu Array{T,1} gdzie T jest okreslonym typem danych (np. Float64)\n",
    "- strona pakietu: https://github.com/JuliaStats/DataFrames.jl\n",
    "- dokumentacja najnowszej wersji 0.14 : https://juliadata.github.io/DataFrames.jl/stable/index.html\n",
    "\n",
    "\n",
    "\n"
   ]
  },
  {
   "cell_type": "code",
   "execution_count": 1,
   "metadata": {},
   "outputs": [
    {
     "name": "stdout",
     "output_type": "stream",
     "text": [
      "4×3 DataFrame\n",
      "│ Row │ MojaKolumna │ Col2    │ Col3  │\n",
      "│     │ \u001b[90mInt64\u001b[39m       │ \u001b[90mFloat64\u001b[39m │ \u001b[90mBool\u001b[39m  │\n",
      "├─────┼─────────────┼─────────┼───────┤\n",
      "│ 1   │ 1           │ 4.0     │ true  │\n",
      "│ 2   │ 2           │ 3.14159 │ false │\n",
      "│ 3   │ 3           │ 1.41421 │ true  │\n",
      "│ 4   │ 4           │ 42.0    │ false │"
     ]
    }
   ],
   "source": [
    "# Tworzenie DataFrame\n",
    "using DataFrames\n",
    "df1=DataFrame()\n",
    "df1[:MojaKolumna]= 1:4\n",
    "df1[:Col2]= [4,pi,sqrt(2), 42]\n",
    "df1[:Col3]= [true,false, true, false]\n",
    "show(df1)"
   ]
  },
  {
   "cell_type": "code",
   "execution_count": 2,
   "metadata": {},
   "outputs": [
    {
     "data": {
      "text/plain": [
       "Array{Float64,1}"
      ]
     },
     "execution_count": 2,
     "metadata": {},
     "output_type": "execute_result"
    }
   ],
   "source": [
    "typeof(df1[:Col2])"
   ]
  },
  {
   "cell_type": "code",
   "execution_count": 3,
   "metadata": {},
   "outputs": [
    {
     "data": {
      "text/plain": [
       "Array{Bool,1}"
      ]
     },
     "execution_count": 3,
     "metadata": {},
     "output_type": "execute_result"
    }
   ],
   "source": [
    "typeof(df1[:Col3])"
   ]
  },
  {
   "cell_type": "code",
   "execution_count": 4,
   "metadata": {},
   "outputs": [
    {
     "data": {
      "text/html": [
       "<table class=\"data-frame\"><thead><tr><th></th><th>MojaKolumna</th><th>Col2</th><th>Col3</th></tr><tr><th></th><th>Int64</th><th>Float64</th><th>Bool</th></tr></thead><tbody><tr><th>1</th><td>1</td><td>2.0</td><td>true</td></tr><tr><th>2</th><td>2</td><td>3.14159</td><td>true</td></tr><tr><th>3</th><td>3</td><td>1.41421</td><td>false</td></tr><tr><th>4</th><td>4</td><td>3.0</td><td>true</td></tr><tr><th>5</th><td>5</td><td>4.0</td><td>false</td></tr><tr><th>6</th><td>6</td><td>2.0</td><td>true</td></tr><tr><th>7</th><td>7</td><td>3.14159</td><td>true</td></tr><tr><th>8</th><td>8</td><td>1.41421</td><td>false</td></tr><tr><th>9</th><td>9</td><td>3.0</td><td>true</td></tr><tr><th>10</th><td>10</td><td>4.0</td><td>false</td></tr></tbody></table>"
      ],
      "text/plain": [
       "10×3 DataFrame\n",
       "│ Row │ MojaKolumna │ Col2    │ Col3  │\n",
       "│     │ \u001b[90mInt64\u001b[39m       │ \u001b[90mFloat64\u001b[39m │ \u001b[90mBool\u001b[39m  │\n",
       "├─────┼─────────────┼─────────┼───────┤\n",
       "│ 1   │ 1           │ 2.0     │ true  │\n",
       "│ 2   │ 2           │ 3.14159 │ true  │\n",
       "│ 3   │ 3           │ 1.41421 │ false │\n",
       "│ 4   │ 4           │ 3.0     │ true  │\n",
       "│ 5   │ 5           │ 4.0     │ false │\n",
       "│ 6   │ 6           │ 2.0     │ true  │\n",
       "│ 7   │ 7           │ 3.14159 │ true  │\n",
       "│ 8   │ 8           │ 1.41421 │ false │\n",
       "│ 9   │ 9           │ 3.0     │ true  │\n",
       "│ 10  │ 10          │ 4.0     │ false │"
      ]
     },
     "execution_count": 4,
     "metadata": {},
     "output_type": "execute_result"
    }
   ],
   "source": [
    "# możemy też utworzyć DataFrame używając konstruktora\n",
    "df2=DataFrame(MojaKolumna=1:10, \n",
    "    Col2=[2,pi, sqrt(2), 3, 4,2,pi, sqrt(2), 3, 4], \n",
    "    Col3=[true,true,false,true,false,true,true,false,true,false])"
   ]
  },
  {
   "cell_type": "code",
   "execution_count": 5,
   "metadata": {},
   "outputs": [
    {
     "data": {
      "text/plain": [
       "10"
      ]
     },
     "execution_count": 5,
     "metadata": {},
     "output_type": "execute_result"
    }
   ],
   "source": [
    "# ilosc wierszy\n",
    "size(df2, 1) "
   ]
  },
  {
   "cell_type": "code",
   "execution_count": 6,
   "metadata": {},
   "outputs": [
    {
     "data": {
      "text/plain": [
       "3"
      ]
     },
     "execution_count": 6,
     "metadata": {},
     "output_type": "execute_result"
    }
   ],
   "source": [
    "#ilosc kolumn\n",
    "size(df2, 2) "
   ]
  },
  {
   "cell_type": "code",
   "execution_count": 7,
   "metadata": {},
   "outputs": [
    {
     "name": "stdout",
     "output_type": "stream",
     "text": [
      "[2.0, 3.14159, 1.41421, 3.0, 4.0, 2.0, 3.14159, 1.41421, 3.0, 4.0]"
     ]
    }
   ],
   "source": [
    "# można odwoływać się po indeksie\n",
    "show(df2[2])"
   ]
  },
  {
   "cell_type": "code",
   "execution_count": 8,
   "metadata": {},
   "outputs": [
    {
     "name": "stdout",
     "output_type": "stream",
     "text": [
      "[2.0, 3.14159, 1.41421, 3.0, 4.0, 2.0, 3.14159, 1.41421, 3.0, 4.0]"
     ]
    }
   ],
   "source": [
    "# albo po symbolu kolumny\n",
    "show(df2[:Col2])"
   ]
  },
  {
   "cell_type": "code",
   "execution_count": 9,
   "metadata": {},
   "outputs": [
    {
     "name": "stdout",
     "output_type": "stream",
     "text": [
      "1×3 DataFrame\n",
      "│ Row │ MojaKolumna │ Col2    │ Col3  │\n",
      "│     │ \u001b[90mInt64\u001b[39m       │ \u001b[90mFloat64\u001b[39m │ \u001b[90mBool\u001b[39m  │\n",
      "├─────┼─────────────┼─────────┼───────┤\n",
      "│ 1   │ 3           │ 1.41421 │ false │"
     ]
    }
   ],
   "source": [
    "# wiersze lub podzbiory wierszy i kolumn uzyskujemy poprzez operator (:). Wynikiem jest nowy DataFrame\n",
    "show(df2[3,:])"
   ]
  },
  {
   "cell_type": "code",
   "execution_count": 10,
   "metadata": {},
   "outputs": [
    {
     "data": {
      "text/html": [
       "<table class=\"data-frame\"><thead><tr><th></th><th>MojaKolumna</th><th>Col2</th><th>Col3</th></tr><tr><th></th><th>Int64</th><th>Float64</th><th>Bool</th></tr></thead><tbody><tr><th>1</th><td>2</td><td>3.14159</td><td>true</td></tr><tr><th>2</th><td>3</td><td>1.41421</td><td>false</td></tr></tbody></table>"
      ],
      "text/plain": [
       "2×3 DataFrame\n",
       "│ Row │ MojaKolumna │ Col2    │ Col3  │\n",
       "│     │ \u001b[90mInt64\u001b[39m       │ \u001b[90mFloat64\u001b[39m │ \u001b[90mBool\u001b[39m  │\n",
       "├─────┼─────────────┼─────────┼───────┤\n",
       "│ 1   │ 2           │ 3.14159 │ true  │\n",
       "│ 2   │ 3           │ 1.41421 │ false │"
      ]
     },
     "execution_count": 10,
     "metadata": {},
     "output_type": "execute_result"
    }
   ],
   "source": [
    "# drugi i trzeci wiersz\n",
    "df2[2:3, :]"
   ]
  },
  {
   "cell_type": "code",
   "execution_count": 11,
   "metadata": {},
   "outputs": [
    {
     "data": {
      "text/plain": [
       "2-element Array{Float64,1}:\n",
       " 3.141592653589793 \n",
       " 1.4142135623730951"
      ]
     },
     "execution_count": 11,
     "metadata": {},
     "output_type": "execute_result"
    }
   ],
   "source": [
    "# druga kolumna drugiego i trzeciego wiersza\n",
    "df2[2:3, :Col2]"
   ]
  },
  {
   "cell_type": "code",
   "execution_count": 12,
   "metadata": {},
   "outputs": [
    {
     "data": {
      "text/html": [
       "<table class=\"data-frame\"><thead><tr><th></th><th>Col2</th><th>Col3</th></tr><tr><th></th><th>Float64</th><th>Bool</th></tr></thead><tbody><tr><th>1</th><td>3.14159</td><td>true</td></tr><tr><th>2</th><td>1.41421</td><td>false</td></tr></tbody></table>"
      ],
      "text/plain": [
       "2×2 DataFrame\n",
       "│ Row │ Col2    │ Col3  │\n",
       "│     │ \u001b[90mFloat64\u001b[39m │ \u001b[90mBool\u001b[39m  │\n",
       "├─────┼─────────┼───────┤\n",
       "│ 1   │ 3.14159 │ true  │\n",
       "│ 2   │ 1.41421 │ false │"
      ]
     },
     "execution_count": 12,
     "metadata": {},
     "output_type": "execute_result"
    }
   ],
   "source": [
    "# druga i trzecia kolumna drugiego i trzeciego wiersza\n",
    "df2[2:3,[:Col2, :Col3]]"
   ]
  },
  {
   "cell_type": "code",
   "execution_count": 13,
   "metadata": {},
   "outputs": [
    {
     "data": {
      "text/html": [
       "<table class=\"data-frame\"><thead><tr><th></th><th>MojaKolumna</th><th>Col2</th><th>Col3</th></tr><tr><th></th><th>Int64</th><th>Float64</th><th>Bool</th></tr></thead><tbody><tr><th>1</th><td>1</td><td>2.0</td><td>true</td></tr><tr><th>2</th><td>2</td><td>3.14159</td><td>true</td></tr><tr><th>3</th><td>3</td><td>1.41421</td><td>false</td></tr><tr><th>4</th><td>4</td><td>3.0</td><td>true</td></tr><tr><th>5</th><td>5</td><td>4.0</td><td>false</td></tr><tr><th>6</th><td>6</td><td>2.0</td><td>true</td></tr></tbody></table>"
      ],
      "text/plain": [
       "6×3 DataFrame\n",
       "│ Row │ MojaKolumna │ Col2    │ Col3  │\n",
       "│     │ \u001b[90mInt64\u001b[39m       │ \u001b[90mFloat64\u001b[39m │ \u001b[90mBool\u001b[39m  │\n",
       "├─────┼─────────────┼─────────┼───────┤\n",
       "│ 1   │ 1           │ 2.0     │ true  │\n",
       "│ 2   │ 2           │ 3.14159 │ true  │\n",
       "│ 3   │ 3           │ 1.41421 │ false │\n",
       "│ 4   │ 4           │ 3.0     │ true  │\n",
       "│ 5   │ 5           │ 4.0     │ false │\n",
       "│ 6   │ 6           │ 2.0     │ true  │"
      ]
     },
     "execution_count": 13,
     "metadata": {},
     "output_type": "execute_result"
    }
   ],
   "source": [
    "# pierwsze sześć wierszy\n",
    "DataFrames.head(df2)"
   ]
  },
  {
   "cell_type": "code",
   "execution_count": 14,
   "metadata": {},
   "outputs": [
    {
     "data": {
      "text/html": [
       "<table class=\"data-frame\"><thead><tr><th></th><th>MojaKolumna</th><th>Col2</th><th>Col3</th></tr><tr><th></th><th>Int64</th><th>Float64</th><th>Bool</th></tr></thead><tbody><tr><th>1</th><td>5</td><td>4.0</td><td>false</td></tr><tr><th>2</th><td>6</td><td>2.0</td><td>true</td></tr><tr><th>3</th><td>7</td><td>3.14159</td><td>true</td></tr><tr><th>4</th><td>8</td><td>1.41421</td><td>false</td></tr><tr><th>5</th><td>9</td><td>3.0</td><td>true</td></tr><tr><th>6</th><td>10</td><td>4.0</td><td>false</td></tr></tbody></table>"
      ],
      "text/plain": [
       "6×3 DataFrame\n",
       "│ Row │ MojaKolumna │ Col2    │ Col3  │\n",
       "│     │ \u001b[90mInt64\u001b[39m       │ \u001b[90mFloat64\u001b[39m │ \u001b[90mBool\u001b[39m  │\n",
       "├─────┼─────────────┼─────────┼───────┤\n",
       "│ 1   │ 5           │ 4.0     │ false │\n",
       "│ 2   │ 6           │ 2.0     │ true  │\n",
       "│ 3   │ 7           │ 3.14159 │ true  │\n",
       "│ 4   │ 8           │ 1.41421 │ false │\n",
       "│ 5   │ 9           │ 3.0     │ true  │\n",
       "│ 6   │ 10          │ 4.0     │ false │"
      ]
     },
     "execution_count": 14,
     "metadata": {},
     "output_type": "execute_result"
    }
   ],
   "source": [
    "# ostatnie sześć wierszy\n",
    "DataFrames.tail(df2)"
   ]
  },
  {
   "cell_type": "code",
   "execution_count": 15,
   "metadata": {},
   "outputs": [
    {
     "data": {
      "text/plain": [
       "3-element Array{Symbol,1}:\n",
       " :MojaKolumna\n",
       " :Col2       \n",
       " :Col3       "
      ]
     },
     "execution_count": 15,
     "metadata": {},
     "output_type": "execute_result"
    }
   ],
   "source": [
    "# nazwy kolumn\n",
    "names(df2)"
   ]
  },
  {
   "cell_type": "code",
   "execution_count": 16,
   "metadata": {},
   "outputs": [
    {
     "data": {
      "text/plain": [
       "3-element Array{Type,1}:\n",
       " Int64  \n",
       " Float64\n",
       " Bool   "
      ]
     },
     "execution_count": 16,
     "metadata": {},
     "output_type": "execute_result"
    }
   ],
   "source": [
    "# typy kolumn\n",
    "eltypes(df2)"
   ]
  },
  {
   "cell_type": "code",
   "execution_count": 17,
   "metadata": {},
   "outputs": [
    {
     "data": {
      "text/html": [
       "<table class=\"data-frame\"><thead><tr><th></th><th>variable</th><th>mean</th><th>min</th><th>median</th><th>max</th><th>nunique</th><th>nmissing</th><th>eltype</th></tr><tr><th></th><th>Symbol</th><th>Float64</th><th>Real</th><th>Float64</th><th>Real</th><th>Nothing</th><th>Nothing</th><th>DataType</th></tr></thead><tbody><tr><th>1</th><td>MojaKolumna</td><td>5.5</td><td>1</td><td>5.5</td><td>10</td><td></td><td></td><td>Int64</td></tr><tr><th>2</th><td>Col2</td><td>2.71116</td><td>1.41421</td><td>3.0</td><td>4.0</td><td></td><td></td><td>Float64</td></tr><tr><th>3</th><td>Col3</td><td>0.6</td><td>false</td><td>1.0</td><td>true</td><td></td><td></td><td>Bool</td></tr></tbody></table>"
      ],
      "text/plain": [
       "3×8 DataFrame. Omitted printing of 1 columns\n",
       "│ Row │ variable    │ mean    │ min     │ median  │ max  │ nunique │ nmissing │\n",
       "│     │ \u001b[90mSymbol\u001b[39m      │ \u001b[90mFloat64\u001b[39m │ \u001b[90mReal\u001b[39m    │ \u001b[90mFloat64\u001b[39m │ \u001b[90mReal\u001b[39m │ \u001b[90mNothing\u001b[39m │ \u001b[90mNothing\u001b[39m  │\n",
       "├─────┼─────────────┼─────────┼─────────┼─────────┼──────┼─────────┼──────────┤\n",
       "│ 1   │ MojaKolumna │ 5.5     │ 1       │ 5.5     │ 10   │         │          │\n",
       "│ 2   │ Col2        │ 2.71116 │ 1.41421 │ 3.0     │ 4.0  │         │          │\n",
       "│ 3   │ Col3        │ 0.6     │ false   │ 1.0     │ true │         │          │"
      ]
     },
     "execution_count": 17,
     "metadata": {},
     "output_type": "execute_result"
    }
   ],
   "source": [
    "# podstawowe dane statystyczne o wartościach w kolumnie\n",
    "describe(df2)"
   ]
  },
  {
   "cell_type": "code",
   "execution_count": 18,
   "metadata": {},
   "outputs": [
    {
     "data": {
      "text/plain": [
       "2.711161243192578"
      ]
     },
     "execution_count": 18,
     "metadata": {},
     "output_type": "execute_result"
    }
   ],
   "source": [
    "using Statistics\n",
    "mean(df2[:Col2])"
   ]
  },
  {
   "cell_type": "code",
   "execution_count": 19,
   "metadata": {},
   "outputs": [
    {
     "data": {
      "text/plain": [
       "0.9150284373648316"
      ]
     },
     "execution_count": 19,
     "metadata": {},
     "output_type": "execute_result"
    }
   ],
   "source": [
    "var(df2[:Col2])"
   ]
  },
  {
   "cell_type": "code",
   "execution_count": 21,
   "metadata": {},
   "outputs": [
    {
     "data": {
      "text/html": [
       "<table class=\"data-frame\"><thead><tr><th></th><th>fixed acidity</th><th>volatile acidity</th><th>citric acid</th><th>residual sugar</th><th>chlorides</th><th>free sulfur dioxide</th><th>total sulfur dioxide</th><th>density</th><th>pH</th><th>sulphates</th><th>alcohol</th><th>quality</th></tr><tr><th></th><th>Float64⍰</th><th>Float64⍰</th><th>Float64⍰</th><th>Float64⍰</th><th>Float64⍰</th><th>Float64⍰</th><th>Float64⍰</th><th>Float64⍰</th><th>Float64⍰</th><th>Float64⍰</th><th>Float64⍰</th><th>Int64⍰</th></tr></thead><tbody><tr><th>1</th><td>7.4</td><td>0.7</td><td>0.0</td><td>1.9</td><td>0.076</td><td>11.0</td><td>34.0</td><td>0.9978</td><td>3.51</td><td>0.56</td><td>9.4</td><td>5</td></tr><tr><th>2</th><td>7.8</td><td>0.88</td><td>0.0</td><td>2.6</td><td>0.098</td><td>25.0</td><td>67.0</td><td>0.9968</td><td>3.2</td><td>0.68</td><td>9.8</td><td>5</td></tr><tr><th>3</th><td>7.8</td><td>0.76</td><td>0.04</td><td>2.3</td><td>0.092</td><td>15.0</td><td>54.0</td><td>0.997</td><td>3.26</td><td>0.65</td><td>9.8</td><td>5</td></tr><tr><th>4</th><td>11.2</td><td>0.28</td><td>0.56</td><td>1.9</td><td>0.075</td><td>17.0</td><td>60.0</td><td>0.998</td><td>3.16</td><td>0.58</td><td>9.8</td><td>6</td></tr><tr><th>5</th><td>7.4</td><td>0.7</td><td>0.0</td><td>1.9</td><td>0.076</td><td>11.0</td><td>34.0</td><td>0.9978</td><td>3.51</td><td>0.56</td><td>9.4</td><td>5</td></tr><tr><th>6</th><td>7.4</td><td>0.66</td><td>0.0</td><td>1.8</td><td>0.075</td><td>13.0</td><td>40.0</td><td>0.9978</td><td>3.51</td><td>0.56</td><td>9.4</td><td>5</td></tr><tr><th>7</th><td>7.9</td><td>0.6</td><td>0.06</td><td>1.6</td><td>0.069</td><td>15.0</td><td>59.0</td><td>0.9964</td><td>3.3</td><td>0.46</td><td>9.4</td><td>5</td></tr><tr><th>8</th><td>7.3</td><td>0.65</td><td>0.0</td><td>1.2</td><td>0.065</td><td>15.0</td><td>21.0</td><td>0.9946</td><td>3.39</td><td>0.47</td><td>10.0</td><td>7</td></tr><tr><th>9</th><td>7.8</td><td>0.58</td><td>0.02</td><td>2.0</td><td>0.073</td><td>9.0</td><td>18.0</td><td>0.9968</td><td>3.36</td><td>0.57</td><td>9.5</td><td>7</td></tr><tr><th>10</th><td>7.5</td><td>0.5</td><td>0.36</td><td>6.1</td><td>0.071</td><td>17.0</td><td>102.0</td><td>0.9978</td><td>3.35</td><td>0.8</td><td>10.5</td><td>5</td></tr><tr><th>11</th><td>6.7</td><td>0.58</td><td>0.08</td><td>1.8</td><td>0.097</td><td>15.0</td><td>65.0</td><td>0.9959</td><td>3.28</td><td>0.54</td><td>9.2</td><td>5</td></tr><tr><th>12</th><td>7.5</td><td>0.5</td><td>0.36</td><td>6.1</td><td>0.071</td><td>17.0</td><td>102.0</td><td>0.9978</td><td>3.35</td><td>0.8</td><td>10.5</td><td>5</td></tr><tr><th>13</th><td>5.6</td><td>0.615</td><td>0.0</td><td>1.6</td><td>0.089</td><td>16.0</td><td>59.0</td><td>0.9943</td><td>3.58</td><td>0.52</td><td>9.9</td><td>5</td></tr><tr><th>14</th><td>7.8</td><td>0.61</td><td>0.29</td><td>1.6</td><td>0.114</td><td>9.0</td><td>29.0</td><td>0.9974</td><td>3.26</td><td>1.56</td><td>9.1</td><td>5</td></tr><tr><th>15</th><td>8.9</td><td>0.62</td><td>0.18</td><td>3.8</td><td>0.176</td><td>52.0</td><td>145.0</td><td>0.9986</td><td>3.16</td><td>0.88</td><td>9.2</td><td>5</td></tr><tr><th>16</th><td>8.9</td><td>0.62</td><td>0.19</td><td>3.9</td><td>0.17</td><td>51.0</td><td>148.0</td><td>0.9986</td><td>3.17</td><td>0.93</td><td>9.2</td><td>5</td></tr><tr><th>17</th><td>8.5</td><td>0.28</td><td>0.56</td><td>1.8</td><td>0.092</td><td>35.0</td><td>103.0</td><td>0.9969</td><td>3.3</td><td>0.75</td><td>10.5</td><td>7</td></tr><tr><th>18</th><td>8.1</td><td>0.56</td><td>0.28</td><td>1.7</td><td>0.368</td><td>16.0</td><td>56.0</td><td>0.9968</td><td>3.11</td><td>1.28</td><td>9.3</td><td>5</td></tr><tr><th>19</th><td>7.4</td><td>0.59</td><td>0.08</td><td>4.4</td><td>0.086</td><td>6.0</td><td>29.0</td><td>0.9974</td><td>3.38</td><td>0.5</td><td>9.0</td><td>4</td></tr><tr><th>20</th><td>7.9</td><td>0.32</td><td>0.51</td><td>1.8</td><td>0.341</td><td>17.0</td><td>56.0</td><td>0.9969</td><td>3.04</td><td>1.08</td><td>9.2</td><td>6</td></tr><tr><th>21</th><td>8.9</td><td>0.22</td><td>0.48</td><td>1.8</td><td>0.077</td><td>29.0</td><td>60.0</td><td>0.9968</td><td>3.39</td><td>0.53</td><td>9.4</td><td>6</td></tr><tr><th>22</th><td>7.6</td><td>0.39</td><td>0.31</td><td>2.3</td><td>0.082</td><td>23.0</td><td>71.0</td><td>0.9982</td><td>3.52</td><td>0.65</td><td>9.7</td><td>5</td></tr><tr><th>23</th><td>7.9</td><td>0.43</td><td>0.21</td><td>1.6</td><td>0.106</td><td>10.0</td><td>37.0</td><td>0.9966</td><td>3.17</td><td>0.91</td><td>9.5</td><td>5</td></tr><tr><th>24</th><td>8.5</td><td>0.49</td><td>0.11</td><td>2.3</td><td>0.084</td><td>9.0</td><td>67.0</td><td>0.9968</td><td>3.17</td><td>0.53</td><td>9.4</td><td>5</td></tr><tr><th>25</th><td>6.9</td><td>0.4</td><td>0.14</td><td>2.4</td><td>0.085</td><td>21.0</td><td>40.0</td><td>0.9968</td><td>3.43</td><td>0.63</td><td>9.7</td><td>6</td></tr><tr><th>26</th><td>6.3</td><td>0.39</td><td>0.16</td><td>1.4</td><td>0.08</td><td>11.0</td><td>23.0</td><td>0.9955</td><td>3.34</td><td>0.56</td><td>9.3</td><td>5</td></tr><tr><th>27</th><td>7.6</td><td>0.41</td><td>0.24</td><td>1.8</td><td>0.08</td><td>4.0</td><td>11.0</td><td>0.9962</td><td>3.28</td><td>0.59</td><td>9.5</td><td>5</td></tr><tr><th>28</th><td>7.9</td><td>0.43</td><td>0.21</td><td>1.6</td><td>0.106</td><td>10.0</td><td>37.0</td><td>0.9966</td><td>3.17</td><td>0.91</td><td>9.5</td><td>5</td></tr><tr><th>29</th><td>7.1</td><td>0.71</td><td>0.0</td><td>1.9</td><td>0.08</td><td>14.0</td><td>35.0</td><td>0.9972</td><td>3.47</td><td>0.55</td><td>9.4</td><td>5</td></tr><tr><th>30</th><td>7.8</td><td>0.645</td><td>0.0</td><td>2.0</td><td>0.082</td><td>8.0</td><td>16.0</td><td>0.9964</td><td>3.38</td><td>0.59</td><td>9.8</td><td>6</td></tr><tr><th>&vellip;</th><td>&vellip;</td><td>&vellip;</td><td>&vellip;</td><td>&vellip;</td><td>&vellip;</td><td>&vellip;</td><td>&vellip;</td><td>&vellip;</td><td>&vellip;</td><td>&vellip;</td><td>&vellip;</td><td>&vellip;</td></tr></tbody></table>"
      ],
      "text/plain": [
       "1599×12 DataFrame. Omitted printing of 8 columns\n",
       "│ Row  │ fixed acidity │ volatile acidity │ citric acid │ residual sugar │\n",
       "│      │ \u001b[90mFloat64⍰\u001b[39m      │ \u001b[90mFloat64⍰\u001b[39m         │ \u001b[90mFloat64⍰\u001b[39m    │ \u001b[90mFloat64⍰\u001b[39m       │\n",
       "├──────┼───────────────┼──────────────────┼─────────────┼────────────────┤\n",
       "│ 1    │ 7.4           │ 0.7              │ 0.0         │ 1.9            │\n",
       "│ 2    │ 7.8           │ 0.88             │ 0.0         │ 2.6            │\n",
       "│ 3    │ 7.8           │ 0.76             │ 0.04        │ 2.3            │\n",
       "│ 4    │ 11.2          │ 0.28             │ 0.56        │ 1.9            │\n",
       "│ 5    │ 7.4           │ 0.7              │ 0.0         │ 1.9            │\n",
       "│ 6    │ 7.4           │ 0.66             │ 0.0         │ 1.8            │\n",
       "│ 7    │ 7.9           │ 0.6              │ 0.06        │ 1.6            │\n",
       "│ 8    │ 7.3           │ 0.65             │ 0.0         │ 1.2            │\n",
       "│ 9    │ 7.8           │ 0.58             │ 0.02        │ 2.0            │\n",
       "│ 10   │ 7.5           │ 0.5              │ 0.36        │ 6.1            │\n",
       "⋮\n",
       "│ 1589 │ 7.2           │ 0.66             │ 0.33        │ 2.5            │\n",
       "│ 1590 │ 6.6           │ 0.725            │ 0.2         │ 7.8            │\n",
       "│ 1591 │ 6.3           │ 0.55             │ 0.15        │ 1.8            │\n",
       "│ 1592 │ 5.4           │ 0.74             │ 0.09        │ 1.7            │\n",
       "│ 1593 │ 6.3           │ 0.51             │ 0.13        │ 2.3            │\n",
       "│ 1594 │ 6.8           │ 0.62             │ 0.08        │ 1.9            │\n",
       "│ 1595 │ 6.2           │ 0.6              │ 0.08        │ 2.0            │\n",
       "│ 1596 │ 5.9           │ 0.55             │ 0.1         │ 2.2            │\n",
       "│ 1597 │ 6.3           │ 0.51             │ 0.13        │ 2.3            │\n",
       "│ 1598 │ 5.9           │ 0.645            │ 0.12        │ 2.0            │\n",
       "│ 1599 │ 6.0           │ 0.31             │ 0.47        │ 3.6            │"
      ]
     },
     "execution_count": 21,
     "metadata": {},
     "output_type": "execute_result"
    }
   ],
   "source": [
    "using CSV\n",
    "input=\"winequality.csv\"\n",
    "mydata=CSV.read(input, delim=\";\")"
   ]
  },
  {
   "cell_type": "code",
   "execution_count": 22,
   "metadata": {},
   "outputs": [
    {
     "data": {
      "text/plain": [
       "DataFrame"
      ]
     },
     "execution_count": 22,
     "metadata": {},
     "output_type": "execute_result"
    }
   ],
   "source": [
    "typeof(mydata)"
   ]
  },
  {
   "cell_type": "code",
   "execution_count": 23,
   "metadata": {},
   "outputs": [
    {
     "data": {
      "text/plain": [
       "(1599, 12)"
      ]
     },
     "execution_count": 23,
     "metadata": {},
     "output_type": "execute_result"
    }
   ],
   "source": [
    "size(mydata)"
   ]
  },
  {
   "cell_type": "code",
   "execution_count": 25,
   "metadata": {},
   "outputs": [
    {
     "data": {
      "text/html": [
       "<table class=\"data-frame\"><thead><tr><th></th><th>quality</th><th>x1</th></tr><tr><th></th><th>Int64⍰</th><th>Int64</th></tr></thead><tbody><tr><th>1</th><td>5</td><td>681</td></tr><tr><th>2</th><td>6</td><td>638</td></tr><tr><th>3</th><td>7</td><td>199</td></tr><tr><th>4</th><td>4</td><td>53</td></tr><tr><th>5</th><td>8</td><td>18</td></tr><tr><th>6</th><td>3</td><td>10</td></tr></tbody></table>"
      ],
      "text/plain": [
       "6×2 DataFrame\n",
       "│ Row │ quality │ x1    │\n",
       "│     │ \u001b[90mInt64⍰\u001b[39m  │ \u001b[90mInt64\u001b[39m │\n",
       "├─────┼─────────┼───────┤\n",
       "│ 1   │ 5       │ 681   │\n",
       "│ 2   │ 6       │ 638   │\n",
       "│ 3   │ 7       │ 199   │\n",
       "│ 4   │ 4       │ 53    │\n",
       "│ 5   │ 8       │ 18    │\n",
       "│ 6   │ 3       │ 10    │"
      ]
     },
     "execution_count": 25,
     "metadata": {},
     "output_type": "execute_result"
    }
   ],
   "source": [
    "# grupowanie wierszy (tutaj po jakości (quality))\n",
    "# ostatni argument to funkcja albo wyrażenie \n",
    "#https://juliadata.github.io/DataFrames.jl/stable/man/split_apply_combine.html\n",
    "# przyklad: zliczanie ilosci win pogrupowanych po jakości\n",
    "wine_grouped=by(mydata, :quality, df->size(df,1))"
   ]
  },
  {
   "cell_type": "code",
   "execution_count": 27,
   "metadata": {},
   "outputs": [
    {
     "data": {
      "text/html": [
       "<table class=\"data-frame\"><thead><tr><th></th><th>quality</th><th>alcohol</th><th>size</th></tr><tr><th></th><th>Int64⍰</th><th>Float64⍰</th><th>Int64</th></tr></thead><tbody><tr><th>1</th><td>3</td><td>8.4</td><td>1</td></tr><tr><th>2</th><td>3</td><td>9.0</td><td>1</td></tr><tr><th>3</th><td>3</td><td>9.7</td><td>1</td></tr><tr><th>4</th><td>3</td><td>9.8</td><td>1</td></tr><tr><th>5</th><td>3</td><td>9.9</td><td>1</td></tr><tr><th>6</th><td>3</td><td>9.95</td><td>1</td></tr><tr><th>7</th><td>3</td><td>10.2</td><td>1</td></tr><tr><th>8</th><td>3</td><td>10.7</td><td>1</td></tr><tr><th>9</th><td>3</td><td>10.9</td><td>1</td></tr><tr><th>10</th><td>3</td><td>11.0</td><td>1</td></tr><tr><th>11</th><td>4</td><td>9.0</td><td>2</td></tr><tr><th>12</th><td>4</td><td>9.05</td><td>1</td></tr><tr><th>13</th><td>4</td><td>9.1</td><td>2</td></tr><tr><th>14</th><td>4</td><td>9.2</td><td>3</td></tr><tr><th>15</th><td>4</td><td>9.3</td><td>2</td></tr><tr><th>16</th><td>4</td><td>9.4</td><td>2</td></tr><tr><th>17</th><td>4</td><td>9.6</td><td>6</td></tr><tr><th>18</th><td>4</td><td>9.7</td><td>2</td></tr><tr><th>19</th><td>4</td><td>9.8</td><td>3</td></tr><tr><th>20</th><td>4</td><td>9.9</td><td>1</td></tr><tr><th>21</th><td>4</td><td>10.0</td><td>4</td></tr><tr><th>22</th><td>4</td><td>10.1</td><td>1</td></tr><tr><th>23</th><td>4</td><td>10.3</td><td>1</td></tr><tr><th>24</th><td>4</td><td>10.4</td><td>3</td></tr><tr><th>25</th><td>4</td><td>10.5</td><td>1</td></tr><tr><th>26</th><td>4</td><td>10.9</td><td>3</td></tr><tr><th>27</th><td>4</td><td>11.0</td><td>4</td></tr><tr><th>28</th><td>4</td><td>11.1</td><td>1</td></tr><tr><th>29</th><td>4</td><td>11.2</td><td>3</td></tr><tr><th>30</th><td>4</td><td>11.3</td><td>1</td></tr><tr><th>&vellip;</th><td>&vellip;</td><td>&vellip;</td><td>&vellip;</td></tr></tbody></table>"
      ],
      "text/plain": [
       "190×3 DataFrame\n",
       "│ Row │ quality │ alcohol  │ size  │\n",
       "│     │ \u001b[90mInt64⍰\u001b[39m  │ \u001b[90mFloat64⍰\u001b[39m │ \u001b[90mInt64\u001b[39m │\n",
       "├─────┼─────────┼──────────┼───────┤\n",
       "│ 1   │ 3       │ 8.4      │ 1     │\n",
       "│ 2   │ 3       │ 9.0      │ 1     │\n",
       "│ 3   │ 3       │ 9.7      │ 1     │\n",
       "│ 4   │ 3       │ 9.8      │ 1     │\n",
       "│ 5   │ 3       │ 9.9      │ 1     │\n",
       "│ 6   │ 3       │ 9.95     │ 1     │\n",
       "│ 7   │ 3       │ 10.2     │ 1     │\n",
       "│ 8   │ 3       │ 10.7     │ 1     │\n",
       "│ 9   │ 3       │ 10.9     │ 1     │\n",
       "│ 10  │ 3       │ 11.0     │ 1     │\n",
       "⋮\n",
       "│ 180 │ 8       │ 11.4     │ 1     │\n",
       "│ 181 │ 8       │ 11.7     │ 2     │\n",
       "│ 182 │ 8       │ 11.8     │ 1     │\n",
       "│ 183 │ 8       │ 12.5     │ 1     │\n",
       "│ 184 │ 8       │ 12.6     │ 1     │\n",
       "│ 185 │ 8       │ 12.7     │ 1     │\n",
       "│ 186 │ 8       │ 12.8     │ 1     │\n",
       "│ 187 │ 8       │ 12.9     │ 1     │\n",
       "│ 188 │ 8       │ 13.1     │ 1     │\n",
       "│ 189 │ 8       │ 13.4     │ 1     │\n",
       "│ 190 │ 8       │ 14.0     │ 2     │"
      ]
     },
     "execution_count": 27,
     "metadata": {},
     "output_type": "execute_result"
    }
   ],
   "source": [
    "#zaawansowane dzialanie na podgrupach\n",
    "df2=by(mydata, [:quality, :alcohol]) do mySubGroup\n",
    "          DataFrame(size = size(mySubGroup,1))\n",
    "        end\n",
    "sort(df2, [:quality, :alcohol])"
   ]
  },
  {
   "cell_type": "code",
   "execution_count": 28,
   "metadata": {},
   "outputs": [
    {
     "data": {
      "text/plain": [
       "\"dataframe1.csv\""
      ]
     },
     "execution_count": 28,
     "metadata": {},
     "output_type": "execute_result"
    }
   ],
   "source": [
    "# zapis do pliku\n",
    "# https://juliadata.github.io/DataFrames.jl/stable/man/getting_started.html#Importing-and-Exporting-Data-(I/O)-1\n",
    "CSV.write(\"dataframe1.csv\", mydata)"
   ]
  },
  {
   "cell_type": "markdown",
   "metadata": {},
   "source": [
    "\n",
    "### Graficzna reprezentacja DataFrames\n",
    "\n",
    "Do wyświetlania danych statystycznych dobrym wyborem jest dodatkowy pakiet do pakietu Plots \n",
    "\n",
    "```julia\n",
    "Pkg.add(\"StatPlots\")\n",
    "```\n",
    "https://github.com/JuliaPlots/StatPlots.jl\n",
    "\n",
    "Niestety Juliabox (chwilowo) nie pozwala na zainstalowanie dowolnych pakietow."
   ]
  },
  {
   "cell_type": "code",
   "execution_count": 36,
   "metadata": {},
   "outputs": [
    {
     "data": {
      "text/html": [
       "<table class=\"data-frame\"><thead><tr><th></th><th>a</th><th>b</th><th>c</th><th>d</th><th>e</th></tr><tr><th></th><th>Int64</th><th>Float64</th><th>Float64</th><th>Float64</th><th>Int64</th></tr></thead><tbody><p>10 rows × 5 columns</p><tr><th>1</th><td>1</td><td>8.38785</td><td>6.12652</td><td>0.142779</td><td>1</td></tr><tr><th>2</th><td>2</td><td>0.178269</td><td>9.29066</td><td>0.867925</td><td>0</td></tr><tr><th>3</th><td>3</td><td>1.89601</td><td>6.44629</td><td>0.216165</td><td>1</td></tr><tr><th>4</th><td>4</td><td>8.49066</td><td>6.57371</td><td>0.313048</td><td>0</td></tr><tr><th>5</th><td>5</td><td>5.33203</td><td>6.82615</td><td>0.682787</td><td>1</td></tr><tr><th>6</th><td>6</td><td>5.60695</td><td>2.83611</td><td>0.413981</td><td>0</td></tr><tr><th>7</th><td>7</td><td>9.52871</td><td>1.14021</td><td>0.902434</td><td>1</td></tr><tr><th>8</th><td>8</td><td>1.32607</td><td>9.74453</td><td>0.100383</td><td>0</td></tr><tr><th>9</th><td>9</td><td>1.347</td><td>9.35129</td><td>0.152628</td><td>1</td></tr><tr><th>10</th><td>10</td><td>4.54973</td><td>6.32762</td><td>0.724599</td><td>0</td></tr></tbody></table>"
      ],
      "text/latex": [
       "\\begin{tabular}{r|ccccc}\n",
       "\t& a & b & c & d & e\\\\\n",
       "\t\\hline\n",
       "\t& Int64 & Float64 & Float64 & Float64 & Int64\\\\\n",
       "\t\\hline\n",
       "\t1 & 1 & 8.38785 & 6.12652 & 0.142779 & 1 \\\\\n",
       "\t2 & 2 & 0.178269 & 9.29066 & 0.867925 & 0 \\\\\n",
       "\t3 & 3 & 1.89601 & 6.44629 & 0.216165 & 1 \\\\\n",
       "\t4 & 4 & 8.49066 & 6.57371 & 0.313048 & 0 \\\\\n",
       "\t5 & 5 & 5.33203 & 6.82615 & 0.682787 & 1 \\\\\n",
       "\t6 & 6 & 5.60695 & 2.83611 & 0.413981 & 0 \\\\\n",
       "\t7 & 7 & 9.52871 & 1.14021 & 0.902434 & 1 \\\\\n",
       "\t8 & 8 & 1.32607 & 9.74453 & 0.100383 & 0 \\\\\n",
       "\t9 & 9 & 1.347 & 9.35129 & 0.152628 & 1 \\\\\n",
       "\t10 & 10 & 4.54973 & 6.32762 & 0.724599 & 0 \\\\\n",
       "\\end{tabular}\n"
      ],
      "text/plain": [
       "10×5 DataFrame\n",
       "│ Row │ a     │ b        │ c       │ d        │ e     │\n",
       "│     │ \u001b[90mInt64\u001b[39m │ \u001b[90mFloat64\u001b[39m  │ \u001b[90mFloat64\u001b[39m │ \u001b[90mFloat64\u001b[39m  │ \u001b[90mInt64\u001b[39m │\n",
       "├─────┼───────┼──────────┼─────────┼──────────┼───────┤\n",
       "│ 1   │ 1     │ 8.38785  │ 6.12652 │ 0.142779 │ 1     │\n",
       "│ 2   │ 2     │ 0.178269 │ 9.29066 │ 0.867925 │ 0     │\n",
       "│ 3   │ 3     │ 1.89601  │ 6.44629 │ 0.216165 │ 1     │\n",
       "│ 4   │ 4     │ 8.49066  │ 6.57371 │ 0.313048 │ 0     │\n",
       "│ 5   │ 5     │ 5.33203  │ 6.82615 │ 0.682787 │ 1     │\n",
       "│ 6   │ 6     │ 5.60695  │ 2.83611 │ 0.413981 │ 0     │\n",
       "│ 7   │ 7     │ 9.52871  │ 1.14021 │ 0.902434 │ 1     │\n",
       "│ 8   │ 8     │ 1.32607  │ 9.74453 │ 0.100383 │ 0     │\n",
       "│ 9   │ 9     │ 1.347    │ 9.35129 │ 0.152628 │ 1     │\n",
       "│ 10  │ 10    │ 4.54973  │ 6.32762 │ 0.724599 │ 0     │"
      ]
     },
     "execution_count": 36,
     "metadata": {},
     "output_type": "execute_result"
    }
   ],
   "source": [
    "using DataFrames\n",
    "df = DataFrame(a = 1:10, b = 10 .* rand(10), c = 10 .* rand(10), d=rand(10), e=map(x->x%2,(1:10)))\n"
   ]
  },
  {
   "cell_type": "code",
   "execution_count": 37,
   "metadata": {},
   "outputs": [
    {
     "data": {
      "image/svg+xml": [
       "<?xml version=\"1.0\" encoding=\"utf-8\"?>\n",
       "<svg xmlns=\"http://www.w3.org/2000/svg\" xmlns:xlink=\"http://www.w3.org/1999/xlink\" width=\"600\" height=\"400\" viewBox=\"0 0 2400 1600\">\n",
       "<defs>\n",
       "  <clipPath id=\"clip4300\">\n",
       "    <rect x=\"0\" y=\"0\" width=\"2000\" height=\"2000\"/>\n",
       "  </clipPath>\n",
       "</defs>\n",
       "<defs>\n",
       "  <clipPath id=\"clip4301\">\n",
       "    <rect x=\"0\" y=\"0\" width=\"2400\" height=\"1600\"/>\n",
       "  </clipPath>\n",
       "</defs>\n",
       "<polygon clip-path=\"url(#clip4301)\" points=\"\n",
       "0,1600 2400,1600 2400,0 0,0 \n",
       "  \" fill=\"#ffffff\" fill-rule=\"evenodd\" fill-opacity=\"1\"/>\n",
       "<defs>\n",
       "  <clipPath id=\"clip4302\">\n",
       "    <rect x=\"480\" y=\"0\" width=\"1681\" height=\"1600\"/>\n",
       "  </clipPath>\n",
       "</defs>\n",
       "<polygon clip-path=\"url(#clip4301)\" points=\"\n",
       "188.156,1503.47 2321.26,1503.47 2321.26,47.2441 188.156,47.2441 \n",
       "  \" fill=\"#ffffff\" fill-rule=\"evenodd\" fill-opacity=\"1\"/>\n",
       "<defs>\n",
       "  <clipPath id=\"clip4303\">\n",
       "    <rect x=\"188\" y=\"47\" width=\"2134\" height=\"1457\"/>\n",
       "  </clipPath>\n",
       "</defs>\n",
       "<polyline clip-path=\"url(#clip4303)\" style=\"stroke:#000000; stroke-width:2; stroke-opacity:0.1; fill:none\" points=\"\n",
       "  472.123,1503.47 472.123,47.2441 \n",
       "  \"/>\n",
       "<polyline clip-path=\"url(#clip4303)\" style=\"stroke:#000000; stroke-width:2; stroke-opacity:0.1; fill:none\" points=\"\n",
       "  919.314,1503.47 919.314,47.2441 \n",
       "  \"/>\n",
       "<polyline clip-path=\"url(#clip4303)\" style=\"stroke:#000000; stroke-width:2; stroke-opacity:0.1; fill:none\" points=\"\n",
       "  1366.51,1503.47 1366.51,47.2441 \n",
       "  \"/>\n",
       "<polyline clip-path=\"url(#clip4303)\" style=\"stroke:#000000; stroke-width:2; stroke-opacity:0.1; fill:none\" points=\"\n",
       "  1813.7,1503.47 1813.7,47.2441 \n",
       "  \"/>\n",
       "<polyline clip-path=\"url(#clip4303)\" style=\"stroke:#000000; stroke-width:2; stroke-opacity:0.1; fill:none\" points=\"\n",
       "  2260.89,1503.47 2260.89,47.2441 \n",
       "  \"/>\n",
       "<polyline clip-path=\"url(#clip4303)\" style=\"stroke:#000000; stroke-width:2; stroke-opacity:0.1; fill:none\" points=\"\n",
       "  188.156,1377.06 2321.26,1377.06 \n",
       "  \"/>\n",
       "<polyline clip-path=\"url(#clip4303)\" style=\"stroke:#000000; stroke-width:2; stroke-opacity:0.1; fill:none\" points=\"\n",
       "  188.156,1068.23 2321.26,1068.23 \n",
       "  \"/>\n",
       "<polyline clip-path=\"url(#clip4303)\" style=\"stroke:#000000; stroke-width:2; stroke-opacity:0.1; fill:none\" points=\"\n",
       "  188.156,759.392 2321.26,759.392 \n",
       "  \"/>\n",
       "<polyline clip-path=\"url(#clip4303)\" style=\"stroke:#000000; stroke-width:2; stroke-opacity:0.1; fill:none\" points=\"\n",
       "  188.156,450.556 2321.26,450.556 \n",
       "  \"/>\n",
       "<polyline clip-path=\"url(#clip4303)\" style=\"stroke:#000000; stroke-width:2; stroke-opacity:0.1; fill:none\" points=\"\n",
       "  188.156,141.72 2321.26,141.72 \n",
       "  \"/>\n",
       "<polyline clip-path=\"url(#clip4301)\" style=\"stroke:#000000; stroke-width:4; stroke-opacity:1; fill:none\" points=\"\n",
       "  188.156,1503.47 2321.26,1503.47 \n",
       "  \"/>\n",
       "<polyline clip-path=\"url(#clip4301)\" style=\"stroke:#000000; stroke-width:4; stroke-opacity:1; fill:none\" points=\"\n",
       "  188.156,1503.47 188.156,47.2441 \n",
       "  \"/>\n",
       "<polyline clip-path=\"url(#clip4301)\" style=\"stroke:#000000; stroke-width:4; stroke-opacity:1; fill:none\" points=\"\n",
       "  472.123,1503.47 472.123,1481.63 \n",
       "  \"/>\n",
       "<polyline clip-path=\"url(#clip4301)\" style=\"stroke:#000000; stroke-width:4; stroke-opacity:1; fill:none\" points=\"\n",
       "  919.314,1503.47 919.314,1481.63 \n",
       "  \"/>\n",
       "<polyline clip-path=\"url(#clip4301)\" style=\"stroke:#000000; stroke-width:4; stroke-opacity:1; fill:none\" points=\"\n",
       "  1366.51,1503.47 1366.51,1481.63 \n",
       "  \"/>\n",
       "<polyline clip-path=\"url(#clip4301)\" style=\"stroke:#000000; stroke-width:4; stroke-opacity:1; fill:none\" points=\"\n",
       "  1813.7,1503.47 1813.7,1481.63 \n",
       "  \"/>\n",
       "<polyline clip-path=\"url(#clip4301)\" style=\"stroke:#000000; stroke-width:4; stroke-opacity:1; fill:none\" points=\"\n",
       "  2260.89,1503.47 2260.89,1481.63 \n",
       "  \"/>\n",
       "<polyline clip-path=\"url(#clip4301)\" style=\"stroke:#000000; stroke-width:4; stroke-opacity:1; fill:none\" points=\"\n",
       "  188.156,1377.06 220.153,1377.06 \n",
       "  \"/>\n",
       "<polyline clip-path=\"url(#clip4301)\" style=\"stroke:#000000; stroke-width:4; stroke-opacity:1; fill:none\" points=\"\n",
       "  188.156,1068.23 220.153,1068.23 \n",
       "  \"/>\n",
       "<polyline clip-path=\"url(#clip4301)\" style=\"stroke:#000000; stroke-width:4; stroke-opacity:1; fill:none\" points=\"\n",
       "  188.156,759.392 220.153,759.392 \n",
       "  \"/>\n",
       "<polyline clip-path=\"url(#clip4301)\" style=\"stroke:#000000; stroke-width:4; stroke-opacity:1; fill:none\" points=\"\n",
       "  188.156,450.556 220.153,450.556 \n",
       "  \"/>\n",
       "<polyline clip-path=\"url(#clip4301)\" style=\"stroke:#000000; stroke-width:4; stroke-opacity:1; fill:none\" points=\"\n",
       "  188.156,141.72 220.153,141.72 \n",
       "  \"/>\n",
       "<g clip-path=\"url(#clip4301)\">\n",
       "<text style=\"fill:#000000; fill-opacity:1; font-family:Arial,Helvetica Neue,Helvetica,sans-serif; font-size:48px; text-anchor:middle;\" transform=\"rotate(0, 472.123, 1557.47)\" x=\"472.123\" y=\"1557.47\">2</text>\n",
       "</g>\n",
       "<g clip-path=\"url(#clip4301)\">\n",
       "<text style=\"fill:#000000; fill-opacity:1; font-family:Arial,Helvetica Neue,Helvetica,sans-serif; font-size:48px; text-anchor:middle;\" transform=\"rotate(0, 919.314, 1557.47)\" x=\"919.314\" y=\"1557.47\">4</text>\n",
       "</g>\n",
       "<g clip-path=\"url(#clip4301)\">\n",
       "<text style=\"fill:#000000; fill-opacity:1; font-family:Arial,Helvetica Neue,Helvetica,sans-serif; font-size:48px; text-anchor:middle;\" transform=\"rotate(0, 1366.51, 1557.47)\" x=\"1366.51\" y=\"1557.47\">6</text>\n",
       "</g>\n",
       "<g clip-path=\"url(#clip4301)\">\n",
       "<text style=\"fill:#000000; fill-opacity:1; font-family:Arial,Helvetica Neue,Helvetica,sans-serif; font-size:48px; text-anchor:middle;\" transform=\"rotate(0, 1813.7, 1557.47)\" x=\"1813.7\" y=\"1557.47\">8</text>\n",
       "</g>\n",
       "<g clip-path=\"url(#clip4301)\">\n",
       "<text style=\"fill:#000000; fill-opacity:1; font-family:Arial,Helvetica Neue,Helvetica,sans-serif; font-size:48px; text-anchor:middle;\" transform=\"rotate(0, 2260.89, 1557.47)\" x=\"2260.89\" y=\"1557.47\">10</text>\n",
       "</g>\n",
       "<g clip-path=\"url(#clip4301)\">\n",
       "<text style=\"fill:#000000; fill-opacity:1; font-family:Arial,Helvetica Neue,Helvetica,sans-serif; font-size:48px; text-anchor:end;\" transform=\"rotate(0, 164.156, 1394.56)\" x=\"164.156\" y=\"1394.56\">0.0</text>\n",
       "</g>\n",
       "<g clip-path=\"url(#clip4301)\">\n",
       "<text style=\"fill:#000000; fill-opacity:1; font-family:Arial,Helvetica Neue,Helvetica,sans-serif; font-size:48px; text-anchor:end;\" transform=\"rotate(0, 164.156, 1085.73)\" x=\"164.156\" y=\"1085.73\">2.5</text>\n",
       "</g>\n",
       "<g clip-path=\"url(#clip4301)\">\n",
       "<text style=\"fill:#000000; fill-opacity:1; font-family:Arial,Helvetica Neue,Helvetica,sans-serif; font-size:48px; text-anchor:end;\" transform=\"rotate(0, 164.156, 776.892)\" x=\"164.156\" y=\"776.892\">5.0</text>\n",
       "</g>\n",
       "<g clip-path=\"url(#clip4301)\">\n",
       "<text style=\"fill:#000000; fill-opacity:1; font-family:Arial,Helvetica Neue,Helvetica,sans-serif; font-size:48px; text-anchor:end;\" transform=\"rotate(0, 164.156, 468.056)\" x=\"164.156\" y=\"468.056\">7.5</text>\n",
       "</g>\n",
       "<g clip-path=\"url(#clip4301)\">\n",
       "<text style=\"fill:#000000; fill-opacity:1; font-family:Arial,Helvetica Neue,Helvetica,sans-serif; font-size:48px; text-anchor:end;\" transform=\"rotate(0, 164.156, 159.22)\" x=\"164.156\" y=\"159.22\">10.0</text>\n",
       "</g>\n",
       "<circle clip-path=\"url(#clip4303)\" style=\"fill:#000000; stroke:none; fill-opacity:1\" cx=\"248.527\" cy=\"340.876\" r=\"18\"/>\n",
       "<circle clip-path=\"url(#clip4303)\" style=\"fill:#ff0000; stroke:none; fill-opacity:1\" cx=\"248.527\" cy=\"340.876\" r=\"14\"/>\n",
       "<circle clip-path=\"url(#clip4303)\" style=\"fill:#000000; stroke:none; fill-opacity:1\" cx=\"472.123\" cy=\"1355.04\" r=\"18\"/>\n",
       "<circle clip-path=\"url(#clip4303)\" style=\"fill:#ff0000; stroke:none; fill-opacity:1\" cx=\"472.123\" cy=\"1355.04\" r=\"14\"/>\n",
       "<circle clip-path=\"url(#clip4303)\" style=\"fill:#000000; stroke:none; fill-opacity:1\" cx=\"695.719\" cy=\"1142.84\" r=\"18\"/>\n",
       "<circle clip-path=\"url(#clip4303)\" style=\"fill:#ff0000; stroke:none; fill-opacity:1\" cx=\"695.719\" cy=\"1142.84\" r=\"14\"/>\n",
       "<circle clip-path=\"url(#clip4303)\" style=\"fill:#000000; stroke:none; fill-opacity:1\" cx=\"919.314\" cy=\"328.176\" r=\"18\"/>\n",
       "<circle clip-path=\"url(#clip4303)\" style=\"fill:#ff0000; stroke:none; fill-opacity:1\" cx=\"919.314\" cy=\"328.176\" r=\"14\"/>\n",
       "<circle clip-path=\"url(#clip4303)\" style=\"fill:#000000; stroke:none; fill-opacity:1\" cx=\"1142.91\" cy=\"718.375\" r=\"18\"/>\n",
       "<circle clip-path=\"url(#clip4303)\" style=\"fill:#ff0000; stroke:none; fill-opacity:1\" cx=\"1142.91\" cy=\"718.375\" r=\"14\"/>\n",
       "<circle clip-path=\"url(#clip4303)\" style=\"fill:#000000; stroke:none; fill-opacity:1\" cx=\"1366.51\" cy=\"684.413\" r=\"18\"/>\n",
       "<circle clip-path=\"url(#clip4303)\" style=\"fill:#ff0000; stroke:none; fill-opacity:1\" cx=\"1366.51\" cy=\"684.413\" r=\"14\"/>\n",
       "<circle clip-path=\"url(#clip4303)\" style=\"fill:#000000; stroke:none; fill-opacity:1\" cx=\"1590.1\" cy=\"199.94\" r=\"18\"/>\n",
       "<circle clip-path=\"url(#clip4303)\" style=\"fill:#ff0000; stroke:none; fill-opacity:1\" cx=\"1590.1\" cy=\"199.94\" r=\"14\"/>\n",
       "<circle clip-path=\"url(#clip4303)\" style=\"fill:#000000; stroke:none; fill-opacity:1\" cx=\"1813.7\" cy=\"1213.25\" r=\"18\"/>\n",
       "<circle clip-path=\"url(#clip4303)\" style=\"fill:#ff0000; stroke:none; fill-opacity:1\" cx=\"1813.7\" cy=\"1213.25\" r=\"14\"/>\n",
       "<circle clip-path=\"url(#clip4303)\" style=\"fill:#000000; stroke:none; fill-opacity:1\" cx=\"2037.29\" cy=\"1210.66\" r=\"18\"/>\n",
       "<circle clip-path=\"url(#clip4303)\" style=\"fill:#ff0000; stroke:none; fill-opacity:1\" cx=\"2037.29\" cy=\"1210.66\" r=\"14\"/>\n",
       "<circle clip-path=\"url(#clip4303)\" style=\"fill:#000000; stroke:none; fill-opacity:1\" cx=\"2260.89\" cy=\"815.016\" r=\"18\"/>\n",
       "<circle clip-path=\"url(#clip4303)\" style=\"fill:#ff0000; stroke:none; fill-opacity:1\" cx=\"2260.89\" cy=\"815.016\" r=\"14\"/>\n",
       "<polyline clip-path=\"url(#clip4303)\" style=\"stroke:#ff0000; stroke-width:4; stroke-opacity:1; fill:none\" points=\"\n",
       "  248.527,358.514 248.527,323.238 \n",
       "  \"/>\n",
       "<polyline clip-path=\"url(#clip4303)\" style=\"stroke:#ff0000; stroke-width:4; stroke-opacity:1; fill:none\" points=\"\n",
       "  472.123,1462.26 472.123,1247.82 \n",
       "  \"/>\n",
       "<polyline clip-path=\"url(#clip4303)\" style=\"stroke:#ff0000; stroke-width:4; stroke-opacity:1; fill:none\" points=\"\n",
       "  695.719,1169.55 695.719,1116.14 \n",
       "  \"/>\n",
       "<polyline clip-path=\"url(#clip4303)\" style=\"stroke:#ff0000; stroke-width:4; stroke-opacity:1; fill:none\" points=\"\n",
       "  919.314,366.848 919.314,289.503 \n",
       "  \"/>\n",
       "<polyline clip-path=\"url(#clip4303)\" style=\"stroke:#ff0000; stroke-width:4; stroke-opacity:1; fill:none\" points=\"\n",
       "  1142.91,802.723 1142.91,634.028 \n",
       "  \"/>\n",
       "<polyline clip-path=\"url(#clip4303)\" style=\"stroke:#ff0000; stroke-width:4; stroke-opacity:1; fill:none\" points=\"\n",
       "  1366.51,735.554 1366.51,633.272 \n",
       "  \"/>\n",
       "<polyline clip-path=\"url(#clip4303)\" style=\"stroke:#ff0000; stroke-width:4; stroke-opacity:1; fill:none\" points=\"\n",
       "  1590.1,311.422 1590.1,88.4582 \n",
       "  \"/>\n",
       "<polyline clip-path=\"url(#clip4303)\" style=\"stroke:#ff0000; stroke-width:4; stroke-opacity:1; fill:none\" points=\"\n",
       "  1813.7,1225.65 1813.7,1200.85 \n",
       "  \"/>\n",
       "<polyline clip-path=\"url(#clip4303)\" style=\"stroke:#ff0000; stroke-width:4; stroke-opacity:1; fill:none\" points=\"\n",
       "  2037.29,1229.52 2037.29,1191.81 \n",
       "  \"/>\n",
       "<polyline clip-path=\"url(#clip4303)\" style=\"stroke:#ff0000; stroke-width:4; stroke-opacity:1; fill:none\" points=\"\n",
       "  2260.89,904.529 2260.89,725.503 \n",
       "  \"/>\n",
       "<line clip-path=\"url(#clip4303)\" x1=\"268.527\" y1=\"358.514\" x2=\"228.527\" y2=\"358.514\" style=\"stroke:#000000; stroke-width:4; stroke-opacity:1\"/>\n",
       "<line clip-path=\"url(#clip4303)\" x1=\"268.527\" y1=\"323.238\" x2=\"228.527\" y2=\"323.238\" style=\"stroke:#000000; stroke-width:4; stroke-opacity:1\"/>\n",
       "<line clip-path=\"url(#clip4303)\" x1=\"492.123\" y1=\"1462.26\" x2=\"452.123\" y2=\"1462.26\" style=\"stroke:#000000; stroke-width:4; stroke-opacity:1\"/>\n",
       "<line clip-path=\"url(#clip4303)\" x1=\"492.123\" y1=\"1247.82\" x2=\"452.123\" y2=\"1247.82\" style=\"stroke:#000000; stroke-width:4; stroke-opacity:1\"/>\n",
       "<line clip-path=\"url(#clip4303)\" x1=\"715.719\" y1=\"1169.55\" x2=\"675.719\" y2=\"1169.55\" style=\"stroke:#000000; stroke-width:4; stroke-opacity:1\"/>\n",
       "<line clip-path=\"url(#clip4303)\" x1=\"715.719\" y1=\"1116.14\" x2=\"675.719\" y2=\"1116.14\" style=\"stroke:#000000; stroke-width:4; stroke-opacity:1\"/>\n",
       "<line clip-path=\"url(#clip4303)\" x1=\"939.314\" y1=\"366.848\" x2=\"899.314\" y2=\"366.848\" style=\"stroke:#000000; stroke-width:4; stroke-opacity:1\"/>\n",
       "<line clip-path=\"url(#clip4303)\" x1=\"939.314\" y1=\"289.503\" x2=\"899.314\" y2=\"289.503\" style=\"stroke:#000000; stroke-width:4; stroke-opacity:1\"/>\n",
       "<line clip-path=\"url(#clip4303)\" x1=\"1162.91\" y1=\"802.723\" x2=\"1122.91\" y2=\"802.723\" style=\"stroke:#000000; stroke-width:4; stroke-opacity:1\"/>\n",
       "<line clip-path=\"url(#clip4303)\" x1=\"1162.91\" y1=\"634.028\" x2=\"1122.91\" y2=\"634.028\" style=\"stroke:#000000; stroke-width:4; stroke-opacity:1\"/>\n",
       "<line clip-path=\"url(#clip4303)\" x1=\"1386.51\" y1=\"735.554\" x2=\"1346.51\" y2=\"735.554\" style=\"stroke:#000000; stroke-width:4; stroke-opacity:1\"/>\n",
       "<line clip-path=\"url(#clip4303)\" x1=\"1386.51\" y1=\"633.272\" x2=\"1346.51\" y2=\"633.272\" style=\"stroke:#000000; stroke-width:4; stroke-opacity:1\"/>\n",
       "<line clip-path=\"url(#clip4303)\" x1=\"1610.1\" y1=\"311.422\" x2=\"1570.1\" y2=\"311.422\" style=\"stroke:#000000; stroke-width:4; stroke-opacity:1\"/>\n",
       "<line clip-path=\"url(#clip4303)\" x1=\"1610.1\" y1=\"88.4582\" x2=\"1570.1\" y2=\"88.4582\" style=\"stroke:#000000; stroke-width:4; stroke-opacity:1\"/>\n",
       "<line clip-path=\"url(#clip4303)\" x1=\"1833.7\" y1=\"1225.65\" x2=\"1793.7\" y2=\"1225.65\" style=\"stroke:#000000; stroke-width:4; stroke-opacity:1\"/>\n",
       "<line clip-path=\"url(#clip4303)\" x1=\"1833.7\" y1=\"1200.85\" x2=\"1793.7\" y2=\"1200.85\" style=\"stroke:#000000; stroke-width:4; stroke-opacity:1\"/>\n",
       "<line clip-path=\"url(#clip4303)\" x1=\"2057.29\" y1=\"1229.52\" x2=\"2017.29\" y2=\"1229.52\" style=\"stroke:#000000; stroke-width:4; stroke-opacity:1\"/>\n",
       "<line clip-path=\"url(#clip4303)\" x1=\"2057.29\" y1=\"1191.81\" x2=\"2017.29\" y2=\"1191.81\" style=\"stroke:#000000; stroke-width:4; stroke-opacity:1\"/>\n",
       "<line clip-path=\"url(#clip4303)\" x1=\"2280.89\" y1=\"904.529\" x2=\"2240.89\" y2=\"904.529\" style=\"stroke:#000000; stroke-width:4; stroke-opacity:1\"/>\n",
       "<line clip-path=\"url(#clip4303)\" x1=\"2280.89\" y1=\"725.503\" x2=\"2240.89\" y2=\"725.503\" style=\"stroke:#000000; stroke-width:4; stroke-opacity:1\"/>\n",
       "<circle clip-path=\"url(#clip4303)\" style=\"fill:#000000; stroke:none; fill-opacity:1\" cx=\"248.527\" cy=\"620.228\" r=\"18\"/>\n",
       "<circle clip-path=\"url(#clip4303)\" style=\"fill:#0000ff; stroke:none; fill-opacity:1\" cx=\"248.527\" cy=\"620.228\" r=\"14\"/>\n",
       "<circle clip-path=\"url(#clip4303)\" style=\"fill:#000000; stroke:none; fill-opacity:1\" cx=\"472.123\" cy=\"229.348\" r=\"18\"/>\n",
       "<circle clip-path=\"url(#clip4303)\" style=\"fill:#0000ff; stroke:none; fill-opacity:1\" cx=\"472.123\" cy=\"229.348\" r=\"14\"/>\n",
       "<circle clip-path=\"url(#clip4303)\" style=\"fill:#000000; stroke:none; fill-opacity:1\" cx=\"695.719\" cy=\"580.725\" r=\"18\"/>\n",
       "<circle clip-path=\"url(#clip4303)\" style=\"fill:#0000ff; stroke:none; fill-opacity:1\" cx=\"695.719\" cy=\"580.725\" r=\"14\"/>\n",
       "<circle clip-path=\"url(#clip4303)\" style=\"fill:#000000; stroke:none; fill-opacity:1\" cx=\"919.314\" cy=\"564.985\" r=\"18\"/>\n",
       "<circle clip-path=\"url(#clip4303)\" style=\"fill:#0000ff; stroke:none; fill-opacity:1\" cx=\"919.314\" cy=\"564.985\" r=\"14\"/>\n",
       "<circle clip-path=\"url(#clip4303)\" style=\"fill:#000000; stroke:none; fill-opacity:1\" cx=\"1142.91\" cy=\"533.799\" r=\"18\"/>\n",
       "<circle clip-path=\"url(#clip4303)\" style=\"fill:#0000ff; stroke:none; fill-opacity:1\" cx=\"1142.91\" cy=\"533.799\" r=\"14\"/>\n",
       "<circle clip-path=\"url(#clip4303)\" style=\"fill:#000000; stroke:none; fill-opacity:1\" cx=\"1366.51\" cy=\"1026.71\" r=\"18\"/>\n",
       "<circle clip-path=\"url(#clip4303)\" style=\"fill:#0000ff; stroke:none; fill-opacity:1\" cx=\"1366.51\" cy=\"1026.71\" r=\"14\"/>\n",
       "<circle clip-path=\"url(#clip4303)\" style=\"fill:#000000; stroke:none; fill-opacity:1\" cx=\"1590.1\" cy=\"1236.21\" r=\"18\"/>\n",
       "<circle clip-path=\"url(#clip4303)\" style=\"fill:#0000ff; stroke:none; fill-opacity:1\" cx=\"1590.1\" cy=\"1236.21\" r=\"14\"/>\n",
       "<circle clip-path=\"url(#clip4303)\" style=\"fill:#000000; stroke:none; fill-opacity:1\" cx=\"1813.7\" cy=\"173.279\" r=\"18\"/>\n",
       "<circle clip-path=\"url(#clip4303)\" style=\"fill:#0000ff; stroke:none; fill-opacity:1\" cx=\"1813.7\" cy=\"173.279\" r=\"14\"/>\n",
       "<circle clip-path=\"url(#clip4303)\" style=\"fill:#000000; stroke:none; fill-opacity:1\" cx=\"2037.29\" cy=\"221.858\" r=\"18\"/>\n",
       "<circle clip-path=\"url(#clip4303)\" style=\"fill:#0000ff; stroke:none; fill-opacity:1\" cx=\"2037.29\" cy=\"221.858\" r=\"14\"/>\n",
       "<circle clip-path=\"url(#clip4303)\" style=\"fill:#000000; stroke:none; fill-opacity:1\" cx=\"2260.89\" cy=\"595.386\" r=\"18\"/>\n",
       "<circle clip-path=\"url(#clip4303)\" style=\"fill:#0000ff; stroke:none; fill-opacity:1\" cx=\"2260.89\" cy=\"595.386\" r=\"14\"/>\n",
       "<polyline clip-path=\"url(#clip4303)\" style=\"stroke:#0000ff; stroke-width:4; stroke-opacity:1; fill:none\" points=\"\n",
       "  248.527,637.866 248.527,602.59 \n",
       "  \"/>\n",
       "<polyline clip-path=\"url(#clip4303)\" style=\"stroke:#0000ff; stroke-width:4; stroke-opacity:1; fill:none\" points=\"\n",
       "  472.123,336.566 472.123,122.129 \n",
       "  \"/>\n",
       "<polyline clip-path=\"url(#clip4303)\" style=\"stroke:#0000ff; stroke-width:4; stroke-opacity:1; fill:none\" points=\"\n",
       "  695.719,607.429 695.719,554.022 \n",
       "  \"/>\n",
       "<polyline clip-path=\"url(#clip4303)\" style=\"stroke:#0000ff; stroke-width:4; stroke-opacity:1; fill:none\" points=\"\n",
       "  919.314,603.657 919.314,526.313 \n",
       "  \"/>\n",
       "<polyline clip-path=\"url(#clip4303)\" style=\"stroke:#0000ff; stroke-width:4; stroke-opacity:1; fill:none\" points=\"\n",
       "  1142.91,618.147 1142.91,449.451 \n",
       "  \"/>\n",
       "<polyline clip-path=\"url(#clip4303)\" style=\"stroke:#0000ff; stroke-width:4; stroke-opacity:1; fill:none\" points=\"\n",
       "  1366.51,1077.85 1366.51,975.566 \n",
       "  \"/>\n",
       "<polyline clip-path=\"url(#clip4303)\" style=\"stroke:#0000ff; stroke-width:4; stroke-opacity:1; fill:none\" points=\"\n",
       "  1590.1,1347.69 1590.1,1124.73 \n",
       "  \"/>\n",
       "<polyline clip-path=\"url(#clip4303)\" style=\"stroke:#0000ff; stroke-width:4; stroke-opacity:1; fill:none\" points=\"\n",
       "  1813.7,185.68 1813.7,160.878 \n",
       "  \"/>\n",
       "<polyline clip-path=\"url(#clip4303)\" style=\"stroke:#0000ff; stroke-width:4; stroke-opacity:1; fill:none\" points=\"\n",
       "  2037.29,240.713 2037.29,203.003 \n",
       "  \"/>\n",
       "<polyline clip-path=\"url(#clip4303)\" style=\"stroke:#0000ff; stroke-width:4; stroke-opacity:1; fill:none\" points=\"\n",
       "  2260.89,684.899 2260.89,505.873 \n",
       "  \"/>\n",
       "<line clip-path=\"url(#clip4303)\" x1=\"268.527\" y1=\"637.866\" x2=\"228.527\" y2=\"637.866\" style=\"stroke:#000000; stroke-width:4; stroke-opacity:1\"/>\n",
       "<line clip-path=\"url(#clip4303)\" x1=\"268.527\" y1=\"602.59\" x2=\"228.527\" y2=\"602.59\" style=\"stroke:#000000; stroke-width:4; stroke-opacity:1\"/>\n",
       "<line clip-path=\"url(#clip4303)\" x1=\"492.123\" y1=\"336.566\" x2=\"452.123\" y2=\"336.566\" style=\"stroke:#000000; stroke-width:4; stroke-opacity:1\"/>\n",
       "<line clip-path=\"url(#clip4303)\" x1=\"492.123\" y1=\"122.129\" x2=\"452.123\" y2=\"122.129\" style=\"stroke:#000000; stroke-width:4; stroke-opacity:1\"/>\n",
       "<line clip-path=\"url(#clip4303)\" x1=\"715.719\" y1=\"607.429\" x2=\"675.719\" y2=\"607.429\" style=\"stroke:#000000; stroke-width:4; stroke-opacity:1\"/>\n",
       "<line clip-path=\"url(#clip4303)\" x1=\"715.719\" y1=\"554.022\" x2=\"675.719\" y2=\"554.022\" style=\"stroke:#000000; stroke-width:4; stroke-opacity:1\"/>\n",
       "<line clip-path=\"url(#clip4303)\" x1=\"939.314\" y1=\"603.657\" x2=\"899.314\" y2=\"603.657\" style=\"stroke:#000000; stroke-width:4; stroke-opacity:1\"/>\n",
       "<line clip-path=\"url(#clip4303)\" x1=\"939.314\" y1=\"526.313\" x2=\"899.314\" y2=\"526.313\" style=\"stroke:#000000; stroke-width:4; stroke-opacity:1\"/>\n",
       "<line clip-path=\"url(#clip4303)\" x1=\"1162.91\" y1=\"618.147\" x2=\"1122.91\" y2=\"618.147\" style=\"stroke:#000000; stroke-width:4; stroke-opacity:1\"/>\n",
       "<line clip-path=\"url(#clip4303)\" x1=\"1162.91\" y1=\"449.451\" x2=\"1122.91\" y2=\"449.451\" style=\"stroke:#000000; stroke-width:4; stroke-opacity:1\"/>\n",
       "<line clip-path=\"url(#clip4303)\" x1=\"1386.51\" y1=\"1077.85\" x2=\"1346.51\" y2=\"1077.85\" style=\"stroke:#000000; stroke-width:4; stroke-opacity:1\"/>\n",
       "<line clip-path=\"url(#clip4303)\" x1=\"1386.51\" y1=\"975.566\" x2=\"1346.51\" y2=\"975.566\" style=\"stroke:#000000; stroke-width:4; stroke-opacity:1\"/>\n",
       "<line clip-path=\"url(#clip4303)\" x1=\"1610.1\" y1=\"1347.69\" x2=\"1570.1\" y2=\"1347.69\" style=\"stroke:#000000; stroke-width:4; stroke-opacity:1\"/>\n",
       "<line clip-path=\"url(#clip4303)\" x1=\"1610.1\" y1=\"1124.73\" x2=\"1570.1\" y2=\"1124.73\" style=\"stroke:#000000; stroke-width:4; stroke-opacity:1\"/>\n",
       "<line clip-path=\"url(#clip4303)\" x1=\"1833.7\" y1=\"185.68\" x2=\"1793.7\" y2=\"185.68\" style=\"stroke:#000000; stroke-width:4; stroke-opacity:1\"/>\n",
       "<line clip-path=\"url(#clip4303)\" x1=\"1833.7\" y1=\"160.878\" x2=\"1793.7\" y2=\"160.878\" style=\"stroke:#000000; stroke-width:4; stroke-opacity:1\"/>\n",
       "<line clip-path=\"url(#clip4303)\" x1=\"2057.29\" y1=\"240.713\" x2=\"2017.29\" y2=\"240.713\" style=\"stroke:#000000; stroke-width:4; stroke-opacity:1\"/>\n",
       "<line clip-path=\"url(#clip4303)\" x1=\"2057.29\" y1=\"203.003\" x2=\"2017.29\" y2=\"203.003\" style=\"stroke:#000000; stroke-width:4; stroke-opacity:1\"/>\n",
       "<line clip-path=\"url(#clip4303)\" x1=\"2280.89\" y1=\"684.899\" x2=\"2240.89\" y2=\"684.899\" style=\"stroke:#000000; stroke-width:4; stroke-opacity:1\"/>\n",
       "<line clip-path=\"url(#clip4303)\" x1=\"2280.89\" y1=\"505.873\" x2=\"2240.89\" y2=\"505.873\" style=\"stroke:#000000; stroke-width:4; stroke-opacity:1\"/>\n",
       "<polygon clip-path=\"url(#clip4301)\" points=\"\n",
       "1958.43,312.204 2249.26,312.204 2249.26,130.764 1958.43,130.764 \n",
       "  \" fill=\"#ffffff\" fill-rule=\"evenodd\" fill-opacity=\"1\"/>\n",
       "<polyline clip-path=\"url(#clip4301)\" style=\"stroke:#000000; stroke-width:4; stroke-opacity:1; fill:none\" points=\"\n",
       "  1958.43,312.204 2249.26,312.204 2249.26,130.764 1958.43,130.764 1958.43,312.204 \n",
       "  \"/>\n",
       "<circle clip-path=\"url(#clip4301)\" style=\"fill:#000000; stroke:none; fill-opacity:1\" cx=\"2066.43\" cy=\"191.244\" r=\"25\"/>\n",
       "<circle clip-path=\"url(#clip4301)\" style=\"fill:#ff0000; stroke:none; fill-opacity:1\" cx=\"2066.43\" cy=\"191.244\" r=\"21\"/>\n",
       "<g clip-path=\"url(#clip4301)\">\n",
       "<text style=\"fill:#000000; fill-opacity:1; font-family:Arial,Helvetica Neue,Helvetica,sans-serif; font-size:48px; text-anchor:start;\" transform=\"rotate(0, 2150.43, 208.744)\" x=\"2150.43\" y=\"208.744\">y1</text>\n",
       "</g>\n",
       "<circle clip-path=\"url(#clip4301)\" style=\"fill:#000000; stroke:none; fill-opacity:1\" cx=\"2066.43\" cy=\"251.724\" r=\"25\"/>\n",
       "<circle clip-path=\"url(#clip4301)\" style=\"fill:#0000ff; stroke:none; fill-opacity:1\" cx=\"2066.43\" cy=\"251.724\" r=\"21\"/>\n",
       "<g clip-path=\"url(#clip4301)\">\n",
       "<text style=\"fill:#000000; fill-opacity:1; font-family:Arial,Helvetica Neue,Helvetica,sans-serif; font-size:48px; text-anchor:start;\" transform=\"rotate(0, 2150.43, 269.224)\" x=\"2150.43\" y=\"269.224\">y2</text>\n",
       "</g>\n",
       "</svg>\n"
      ]
     },
     "execution_count": 37,
     "metadata": {},
     "output_type": "execute_result"
    }
   ],
   "source": [
    "# zamiast makra @df z pakietu StatPlots mozna odwolywac sie bezposrednio do kolumn (gdyz sa typu jednowymiarowych tablic \n",
    "# Array{T,1})\n",
    "using Plots\n",
    "scatter(df[:a], [df[:b], df[:c]], colour = [:red :blue], yerr=df[:d])\n"
   ]
  },
  {
   "cell_type": "code",
   "execution_count": 38,
   "metadata": {},
   "outputs": [
    {
     "data": {
      "image/svg+xml": [
       "<?xml version=\"1.0\" encoding=\"utf-8\"?>\n",
       "<svg xmlns=\"http://www.w3.org/2000/svg\" xmlns:xlink=\"http://www.w3.org/1999/xlink\" width=\"600\" height=\"400\" viewBox=\"0 0 2400 1600\">\n",
       "<defs>\n",
       "  <clipPath id=\"clip4500\">\n",
       "    <rect x=\"0\" y=\"0\" width=\"2000\" height=\"2000\"/>\n",
       "  </clipPath>\n",
       "</defs>\n",
       "<defs>\n",
       "  <clipPath id=\"clip4501\">\n",
       "    <rect x=\"0\" y=\"0\" width=\"2400\" height=\"1600\"/>\n",
       "  </clipPath>\n",
       "</defs>\n",
       "<polygon clip-path=\"url(#clip4501)\" points=\"\n",
       "0,1600 2400,1600 2400,0 0,0 \n",
       "  \" fill=\"#ffffff\" fill-rule=\"evenodd\" fill-opacity=\"1\"/>\n",
       "<defs>\n",
       "  <clipPath id=\"clip4502\">\n",
       "    <rect x=\"480\" y=\"0\" width=\"1681\" height=\"1600\"/>\n",
       "  </clipPath>\n",
       "</defs>\n",
       "<polygon clip-path=\"url(#clip4501)\" points=\"\n",
       "121.251,1503.47 1107.88,1503.47 1107.88,47.2441 121.251,47.2441 \n",
       "  \" fill=\"#ffffff\" fill-rule=\"evenodd\" fill-opacity=\"1\"/>\n",
       "<defs>\n",
       "  <clipPath id=\"clip4503\">\n",
       "    <rect x=\"121\" y=\"47\" width=\"988\" height=\"1457\"/>\n",
       "  </clipPath>\n",
       "</defs>\n",
       "<polyline clip-path=\"url(#clip4503)\" style=\"stroke:#000000; stroke-width:2; stroke-opacity:0.1; fill:none\" points=\"\n",
       "  252.594,1503.47 252.594,47.2441 \n",
       "  \"/>\n",
       "<polyline clip-path=\"url(#clip4503)\" style=\"stroke:#000000; stroke-width:2; stroke-opacity:0.1; fill:none\" points=\"\n",
       "  459.434,1503.47 459.434,47.2441 \n",
       "  \"/>\n",
       "<polyline clip-path=\"url(#clip4503)\" style=\"stroke:#000000; stroke-width:2; stroke-opacity:0.1; fill:none\" points=\"\n",
       "  666.275,1503.47 666.275,47.2441 \n",
       "  \"/>\n",
       "<polyline clip-path=\"url(#clip4503)\" style=\"stroke:#000000; stroke-width:2; stroke-opacity:0.1; fill:none\" points=\"\n",
       "  873.115,1503.47 873.115,47.2441 \n",
       "  \"/>\n",
       "<polyline clip-path=\"url(#clip4503)\" style=\"stroke:#000000; stroke-width:2; stroke-opacity:0.1; fill:none\" points=\"\n",
       "  1079.96,1503.47 1079.96,47.2441 \n",
       "  \"/>\n",
       "<polyline clip-path=\"url(#clip4503)\" style=\"stroke:#000000; stroke-width:2; stroke-opacity:0.1; fill:none\" points=\"\n",
       "  121.251,1488.45 1107.88,1488.45 \n",
       "  \"/>\n",
       "<polyline clip-path=\"url(#clip4503)\" style=\"stroke:#000000; stroke-width:2; stroke-opacity:0.1; fill:none\" points=\"\n",
       "  121.251,1194.61 1107.88,1194.61 \n",
       "  \"/>\n",
       "<polyline clip-path=\"url(#clip4503)\" style=\"stroke:#000000; stroke-width:2; stroke-opacity:0.1; fill:none\" points=\"\n",
       "  121.251,900.758 1107.88,900.758 \n",
       "  \"/>\n",
       "<polyline clip-path=\"url(#clip4503)\" style=\"stroke:#000000; stroke-width:2; stroke-opacity:0.1; fill:none\" points=\"\n",
       "  121.251,606.91 1107.88,606.91 \n",
       "  \"/>\n",
       "<polyline clip-path=\"url(#clip4503)\" style=\"stroke:#000000; stroke-width:2; stroke-opacity:0.1; fill:none\" points=\"\n",
       "  121.251,313.062 1107.88,313.062 \n",
       "  \"/>\n",
       "<polyline clip-path=\"url(#clip4501)\" style=\"stroke:#000000; stroke-width:4; stroke-opacity:1; fill:none\" points=\"\n",
       "  121.251,1503.47 1107.88,1503.47 \n",
       "  \"/>\n",
       "<polyline clip-path=\"url(#clip4501)\" style=\"stroke:#000000; stroke-width:4; stroke-opacity:1; fill:none\" points=\"\n",
       "  121.251,1503.47 121.251,47.2441 \n",
       "  \"/>\n",
       "<polyline clip-path=\"url(#clip4501)\" style=\"stroke:#000000; stroke-width:4; stroke-opacity:1; fill:none\" points=\"\n",
       "  252.594,1503.47 252.594,1481.63 \n",
       "  \"/>\n",
       "<polyline clip-path=\"url(#clip4501)\" style=\"stroke:#000000; stroke-width:4; stroke-opacity:1; fill:none\" points=\"\n",
       "  459.434,1503.47 459.434,1481.63 \n",
       "  \"/>\n",
       "<polyline clip-path=\"url(#clip4501)\" style=\"stroke:#000000; stroke-width:4; stroke-opacity:1; fill:none\" points=\"\n",
       "  666.275,1503.47 666.275,1481.63 \n",
       "  \"/>\n",
       "<polyline clip-path=\"url(#clip4501)\" style=\"stroke:#000000; stroke-width:4; stroke-opacity:1; fill:none\" points=\"\n",
       "  873.115,1503.47 873.115,1481.63 \n",
       "  \"/>\n",
       "<polyline clip-path=\"url(#clip4501)\" style=\"stroke:#000000; stroke-width:4; stroke-opacity:1; fill:none\" points=\"\n",
       "  1079.96,1503.47 1079.96,1481.63 \n",
       "  \"/>\n",
       "<polyline clip-path=\"url(#clip4501)\" style=\"stroke:#000000; stroke-width:4; stroke-opacity:1; fill:none\" points=\"\n",
       "  121.251,1488.45 136.05,1488.45 \n",
       "  \"/>\n",
       "<polyline clip-path=\"url(#clip4501)\" style=\"stroke:#000000; stroke-width:4; stroke-opacity:1; fill:none\" points=\"\n",
       "  121.251,1194.61 136.05,1194.61 \n",
       "  \"/>\n",
       "<polyline clip-path=\"url(#clip4501)\" style=\"stroke:#000000; stroke-width:4; stroke-opacity:1; fill:none\" points=\"\n",
       "  121.251,900.758 136.05,900.758 \n",
       "  \"/>\n",
       "<polyline clip-path=\"url(#clip4501)\" style=\"stroke:#000000; stroke-width:4; stroke-opacity:1; fill:none\" points=\"\n",
       "  121.251,606.91 136.05,606.91 \n",
       "  \"/>\n",
       "<polyline clip-path=\"url(#clip4501)\" style=\"stroke:#000000; stroke-width:4; stroke-opacity:1; fill:none\" points=\"\n",
       "  121.251,313.062 136.05,313.062 \n",
       "  \"/>\n",
       "<g clip-path=\"url(#clip4501)\">\n",
       "<text style=\"fill:#000000; fill-opacity:1; font-family:Arial,Helvetica Neue,Helvetica,sans-serif; font-size:48px; text-anchor:middle;\" transform=\"rotate(0, 252.594, 1557.47)\" x=\"252.594\" y=\"1557.47\">2</text>\n",
       "</g>\n",
       "<g clip-path=\"url(#clip4501)\">\n",
       "<text style=\"fill:#000000; fill-opacity:1; font-family:Arial,Helvetica Neue,Helvetica,sans-serif; font-size:48px; text-anchor:middle;\" transform=\"rotate(0, 459.434, 1557.47)\" x=\"459.434\" y=\"1557.47\">4</text>\n",
       "</g>\n",
       "<g clip-path=\"url(#clip4501)\">\n",
       "<text style=\"fill:#000000; fill-opacity:1; font-family:Arial,Helvetica Neue,Helvetica,sans-serif; font-size:48px; text-anchor:middle;\" transform=\"rotate(0, 666.275, 1557.47)\" x=\"666.275\" y=\"1557.47\">6</text>\n",
       "</g>\n",
       "<g clip-path=\"url(#clip4501)\">\n",
       "<text style=\"fill:#000000; fill-opacity:1; font-family:Arial,Helvetica Neue,Helvetica,sans-serif; font-size:48px; text-anchor:middle;\" transform=\"rotate(0, 873.115, 1557.47)\" x=\"873.115\" y=\"1557.47\">8</text>\n",
       "</g>\n",
       "<g clip-path=\"url(#clip4501)\">\n",
       "<text style=\"fill:#000000; fill-opacity:1; font-family:Arial,Helvetica Neue,Helvetica,sans-serif; font-size:48px; text-anchor:middle;\" transform=\"rotate(0, 1079.96, 1557.47)\" x=\"1079.96\" y=\"1557.47\">10</text>\n",
       "</g>\n",
       "<g clip-path=\"url(#clip4501)\">\n",
       "<text style=\"fill:#000000; fill-opacity:1; font-family:Arial,Helvetica Neue,Helvetica,sans-serif; font-size:48px; text-anchor:end;\" transform=\"rotate(0, 97.2505, 1505.95)\" x=\"97.2505\" y=\"1505.95\">0</text>\n",
       "</g>\n",
       "<g clip-path=\"url(#clip4501)\">\n",
       "<text style=\"fill:#000000; fill-opacity:1; font-family:Arial,Helvetica Neue,Helvetica,sans-serif; font-size:48px; text-anchor:end;\" transform=\"rotate(0, 97.2505, 1212.11)\" x=\"97.2505\" y=\"1212.11\">2</text>\n",
       "</g>\n",
       "<g clip-path=\"url(#clip4501)\">\n",
       "<text style=\"fill:#000000; fill-opacity:1; font-family:Arial,Helvetica Neue,Helvetica,sans-serif; font-size:48px; text-anchor:end;\" transform=\"rotate(0, 97.2505, 918.258)\" x=\"97.2505\" y=\"918.258\">4</text>\n",
       "</g>\n",
       "<g clip-path=\"url(#clip4501)\">\n",
       "<text style=\"fill:#000000; fill-opacity:1; font-family:Arial,Helvetica Neue,Helvetica,sans-serif; font-size:48px; text-anchor:end;\" transform=\"rotate(0, 97.2505, 624.41)\" x=\"97.2505\" y=\"624.41\">6</text>\n",
       "</g>\n",
       "<g clip-path=\"url(#clip4501)\">\n",
       "<text style=\"fill:#000000; fill-opacity:1; font-family:Arial,Helvetica Neue,Helvetica,sans-serif; font-size:48px; text-anchor:end;\" transform=\"rotate(0, 97.2505, 330.562)\" x=\"97.2505\" y=\"330.562\">8</text>\n",
       "</g>\n",
       "<polyline clip-path=\"url(#clip4503)\" style=\"stroke:#ff0000; stroke-width:4; stroke-opacity:1; fill:none\" points=\"\n",
       "  252.594,1462.26 459.434,240.973 666.275,664.658 873.115,1293.62 1079.96,819.99 \n",
       "  \"/>\n",
       "<polyline clip-path=\"url(#clip4503)\" style=\"stroke:#008000; stroke-width:4; stroke-opacity:1; fill:none\" points=\"\n",
       "  149.174,256.079 356.014,1209.88 562.855,705.051 769.695,88.4582 976.535,1290.55 \n",
       "  \"/>\n",
       "<polygon clip-path=\"url(#clip4501)\" points=\"\n",
       "769.116,312.204 1035.88,312.204 1035.88,130.764 769.116,130.764 \n",
       "  \" fill=\"#ffffff\" fill-rule=\"evenodd\" fill-opacity=\"1\"/>\n",
       "<polyline clip-path=\"url(#clip4501)\" style=\"stroke:#000000; stroke-width:4; stroke-opacity:1; fill:none\" points=\"\n",
       "  769.116,312.204 1035.88,312.204 1035.88,130.764 769.116,130.764 769.116,312.204 \n",
       "  \"/>\n",
       "<polyline clip-path=\"url(#clip4501)\" style=\"stroke:#ff0000; stroke-width:4; stroke-opacity:1; fill:none\" points=\"\n",
       "  793.116,191.244 937.116,191.244 \n",
       "  \"/>\n",
       "<g clip-path=\"url(#clip4501)\">\n",
       "<text style=\"fill:#000000; fill-opacity:1; font-family:Arial,Helvetica Neue,Helvetica,sans-serif; font-size:48px; text-anchor:start;\" transform=\"rotate(0, 961.116, 208.744)\" x=\"961.116\" y=\"208.744\">0</text>\n",
       "</g>\n",
       "<polyline clip-path=\"url(#clip4501)\" style=\"stroke:#008000; stroke-width:4; stroke-opacity:1; fill:none\" points=\"\n",
       "  793.116,251.724 937.116,251.724 \n",
       "  \"/>\n",
       "<g clip-path=\"url(#clip4501)\">\n",
       "<text style=\"fill:#000000; fill-opacity:1; font-family:Arial,Helvetica Neue,Helvetica,sans-serif; font-size:48px; text-anchor:start;\" transform=\"rotate(0, 961.116, 269.224)\" x=\"961.116\" y=\"269.224\">1</text>\n",
       "</g>\n",
       "<polygon clip-path=\"url(#clip4501)\" points=\"\n",
       "1334.63,1503.47 2321.26,1503.47 2321.26,47.2441 1334.63,47.2441 \n",
       "  \" fill=\"#ffffff\" fill-rule=\"evenodd\" fill-opacity=\"1\"/>\n",
       "<defs>\n",
       "  <clipPath id=\"clip4504\">\n",
       "    <rect x=\"1334\" y=\"47\" width=\"988\" height=\"1457\"/>\n",
       "  </clipPath>\n",
       "</defs>\n",
       "<polyline clip-path=\"url(#clip4504)\" style=\"stroke:#000000; stroke-width:2; stroke-opacity:0.1; fill:none\" points=\"\n",
       "  1465.98,1503.47 1465.98,47.2441 \n",
       "  \"/>\n",
       "<polyline clip-path=\"url(#clip4504)\" style=\"stroke:#000000; stroke-width:2; stroke-opacity:0.1; fill:none\" points=\"\n",
       "  1672.82,1503.47 1672.82,47.2441 \n",
       "  \"/>\n",
       "<polyline clip-path=\"url(#clip4504)\" style=\"stroke:#000000; stroke-width:2; stroke-opacity:0.1; fill:none\" points=\"\n",
       "  1879.66,1503.47 1879.66,47.2441 \n",
       "  \"/>\n",
       "<polyline clip-path=\"url(#clip4504)\" style=\"stroke:#000000; stroke-width:2; stroke-opacity:0.1; fill:none\" points=\"\n",
       "  2086.5,1503.47 2086.5,47.2441 \n",
       "  \"/>\n",
       "<polyline clip-path=\"url(#clip4504)\" style=\"stroke:#000000; stroke-width:2; stroke-opacity:0.1; fill:none\" points=\"\n",
       "  2293.34,1503.47 2293.34,47.2441 \n",
       "  \"/>\n",
       "<polyline clip-path=\"url(#clip4504)\" style=\"stroke:#000000; stroke-width:2; stroke-opacity:0.1; fill:none\" points=\"\n",
       "  1334.63,1324.98 2321.26,1324.98 \n",
       "  \"/>\n",
       "<polyline clip-path=\"url(#clip4504)\" style=\"stroke:#000000; stroke-width:2; stroke-opacity:0.1; fill:none\" points=\"\n",
       "  1334.63,1005.65 2321.26,1005.65 \n",
       "  \"/>\n",
       "<polyline clip-path=\"url(#clip4504)\" style=\"stroke:#000000; stroke-width:2; stroke-opacity:0.1; fill:none\" points=\"\n",
       "  1334.63,686.326 2321.26,686.326 \n",
       "  \"/>\n",
       "<polyline clip-path=\"url(#clip4504)\" style=\"stroke:#000000; stroke-width:2; stroke-opacity:0.1; fill:none\" points=\"\n",
       "  1334.63,366.997 2321.26,366.997 \n",
       "  \"/>\n",
       "<polyline clip-path=\"url(#clip4504)\" style=\"stroke:#000000; stroke-width:2; stroke-opacity:0.1; fill:none\" points=\"\n",
       "  1334.63,47.6689 2321.26,47.6689 \n",
       "  \"/>\n",
       "<polyline clip-path=\"url(#clip4501)\" style=\"stroke:#000000; stroke-width:4; stroke-opacity:1; fill:none\" points=\"\n",
       "  1334.63,1503.47 2321.26,1503.47 \n",
       "  \"/>\n",
       "<polyline clip-path=\"url(#clip4501)\" style=\"stroke:#000000; stroke-width:4; stroke-opacity:1; fill:none\" points=\"\n",
       "  1334.63,1503.47 1334.63,47.2441 \n",
       "  \"/>\n",
       "<polyline clip-path=\"url(#clip4501)\" style=\"stroke:#000000; stroke-width:4; stroke-opacity:1; fill:none\" points=\"\n",
       "  1465.98,1503.47 1465.98,1481.63 \n",
       "  \"/>\n",
       "<polyline clip-path=\"url(#clip4501)\" style=\"stroke:#000000; stroke-width:4; stroke-opacity:1; fill:none\" points=\"\n",
       "  1672.82,1503.47 1672.82,1481.63 \n",
       "  \"/>\n",
       "<polyline clip-path=\"url(#clip4501)\" style=\"stroke:#000000; stroke-width:4; stroke-opacity:1; fill:none\" points=\"\n",
       "  1879.66,1503.47 1879.66,1481.63 \n",
       "  \"/>\n",
       "<polyline clip-path=\"url(#clip4501)\" style=\"stroke:#000000; stroke-width:4; stroke-opacity:1; fill:none\" points=\"\n",
       "  2086.5,1503.47 2086.5,1481.63 \n",
       "  \"/>\n",
       "<polyline clip-path=\"url(#clip4501)\" style=\"stroke:#000000; stroke-width:4; stroke-opacity:1; fill:none\" points=\"\n",
       "  2293.34,1503.47 2293.34,1481.63 \n",
       "  \"/>\n",
       "<polyline clip-path=\"url(#clip4501)\" style=\"stroke:#000000; stroke-width:4; stroke-opacity:1; fill:none\" points=\"\n",
       "  1334.63,1324.98 1349.43,1324.98 \n",
       "  \"/>\n",
       "<polyline clip-path=\"url(#clip4501)\" style=\"stroke:#000000; stroke-width:4; stroke-opacity:1; fill:none\" points=\"\n",
       "  1334.63,1005.65 1349.43,1005.65 \n",
       "  \"/>\n",
       "<polyline clip-path=\"url(#clip4501)\" style=\"stroke:#000000; stroke-width:4; stroke-opacity:1; fill:none\" points=\"\n",
       "  1334.63,686.326 1349.43,686.326 \n",
       "  \"/>\n",
       "<polyline clip-path=\"url(#clip4501)\" style=\"stroke:#000000; stroke-width:4; stroke-opacity:1; fill:none\" points=\"\n",
       "  1334.63,366.997 1349.43,366.997 \n",
       "  \"/>\n",
       "<polyline clip-path=\"url(#clip4501)\" style=\"stroke:#000000; stroke-width:4; stroke-opacity:1; fill:none\" points=\"\n",
       "  1334.63,47.6689 1349.43,47.6689 \n",
       "  \"/>\n",
       "<g clip-path=\"url(#clip4501)\">\n",
       "<text style=\"fill:#000000; fill-opacity:1; font-family:Arial,Helvetica Neue,Helvetica,sans-serif; font-size:48px; text-anchor:middle;\" transform=\"rotate(0, 1465.98, 1557.47)\" x=\"1465.98\" y=\"1557.47\">2</text>\n",
       "</g>\n",
       "<g clip-path=\"url(#clip4501)\">\n",
       "<text style=\"fill:#000000; fill-opacity:1; font-family:Arial,Helvetica Neue,Helvetica,sans-serif; font-size:48px; text-anchor:middle;\" transform=\"rotate(0, 1672.82, 1557.47)\" x=\"1672.82\" y=\"1557.47\">4</text>\n",
       "</g>\n",
       "<g clip-path=\"url(#clip4501)\">\n",
       "<text style=\"fill:#000000; fill-opacity:1; font-family:Arial,Helvetica Neue,Helvetica,sans-serif; font-size:48px; text-anchor:middle;\" transform=\"rotate(0, 1879.66, 1557.47)\" x=\"1879.66\" y=\"1557.47\">6</text>\n",
       "</g>\n",
       "<g clip-path=\"url(#clip4501)\">\n",
       "<text style=\"fill:#000000; fill-opacity:1; font-family:Arial,Helvetica Neue,Helvetica,sans-serif; font-size:48px; text-anchor:middle;\" transform=\"rotate(0, 2086.5, 1557.47)\" x=\"2086.5\" y=\"1557.47\">8</text>\n",
       "</g>\n",
       "<g clip-path=\"url(#clip4501)\">\n",
       "<text style=\"fill:#000000; fill-opacity:1; font-family:Arial,Helvetica Neue,Helvetica,sans-serif; font-size:48px; text-anchor:middle;\" transform=\"rotate(0, 2293.34, 1557.47)\" x=\"2293.34\" y=\"1557.47\">10</text>\n",
       "</g>\n",
       "<g clip-path=\"url(#clip4501)\">\n",
       "<text style=\"fill:#000000; fill-opacity:1; font-family:Arial,Helvetica Neue,Helvetica,sans-serif; font-size:48px; text-anchor:end;\" transform=\"rotate(0, 1310.63, 1342.48)\" x=\"1310.63\" y=\"1342.48\">2</text>\n",
       "</g>\n",
       "<g clip-path=\"url(#clip4501)\">\n",
       "<text style=\"fill:#000000; fill-opacity:1; font-family:Arial,Helvetica Neue,Helvetica,sans-serif; font-size:48px; text-anchor:end;\" transform=\"rotate(0, 1310.63, 1023.15)\" x=\"1310.63\" y=\"1023.15\">4</text>\n",
       "</g>\n",
       "<g clip-path=\"url(#clip4501)\">\n",
       "<text style=\"fill:#000000; fill-opacity:1; font-family:Arial,Helvetica Neue,Helvetica,sans-serif; font-size:48px; text-anchor:end;\" transform=\"rotate(0, 1310.63, 703.826)\" x=\"1310.63\" y=\"703.826\">6</text>\n",
       "</g>\n",
       "<g clip-path=\"url(#clip4501)\">\n",
       "<text style=\"fill:#000000; fill-opacity:1; font-family:Arial,Helvetica Neue,Helvetica,sans-serif; font-size:48px; text-anchor:end;\" transform=\"rotate(0, 1310.63, 384.497)\" x=\"1310.63\" y=\"384.497\">8</text>\n",
       "</g>\n",
       "<g clip-path=\"url(#clip4501)\">\n",
       "<text style=\"fill:#000000; fill-opacity:1; font-family:Arial,Helvetica Neue,Helvetica,sans-serif; font-size:48px; text-anchor:end;\" transform=\"rotate(0, 1310.63, 65.1689)\" x=\"1310.63\" y=\"65.1689\">10</text>\n",
       "</g>\n",
       "<polyline clip-path=\"url(#clip4504)\" style=\"stroke:#0000ff; stroke-width:4; stroke-opacity:1; fill:none\" points=\"\n",
       "  1465.98,160.925 1672.82,594.726 1879.66,1191.49 2086.5,88.4582 2293.34,634.018 \n",
       "  \"/>\n",
       "<polyline clip-path=\"url(#clip4504)\" style=\"stroke:#000000; stroke-width:4; stroke-opacity:1; fill:none\" points=\"\n",
       "  1362.56,666.125 1569.4,615.07 1776.24,554.419 1983.08,1462.26 2189.92,151.245 \n",
       "  \"/>\n",
       "<polygon clip-path=\"url(#clip4501)\" points=\"\n",
       "1982.5,312.204 2249.26,312.204 2249.26,130.764 1982.5,130.764 \n",
       "  \" fill=\"#ffffff\" fill-rule=\"evenodd\" fill-opacity=\"1\"/>\n",
       "<polyline clip-path=\"url(#clip4501)\" style=\"stroke:#000000; stroke-width:4; stroke-opacity:1; fill:none\" points=\"\n",
       "  1982.5,312.204 2249.26,312.204 2249.26,130.764 1982.5,130.764 1982.5,312.204 \n",
       "  \"/>\n",
       "<polyline clip-path=\"url(#clip4501)\" style=\"stroke:#0000ff; stroke-width:4; stroke-opacity:1; fill:none\" points=\"\n",
       "  2006.5,191.244 2150.5,191.244 \n",
       "  \"/>\n",
       "<g clip-path=\"url(#clip4501)\">\n",
       "<text style=\"fill:#000000; fill-opacity:1; font-family:Arial,Helvetica Neue,Helvetica,sans-serif; font-size:48px; text-anchor:start;\" transform=\"rotate(0, 2174.5, 208.744)\" x=\"2174.5\" y=\"208.744\">0</text>\n",
       "</g>\n",
       "<polyline clip-path=\"url(#clip4501)\" style=\"stroke:#000000; stroke-width:4; stroke-opacity:1; fill:none\" points=\"\n",
       "  2006.5,251.724 2150.5,251.724 \n",
       "  \"/>\n",
       "<g clip-path=\"url(#clip4501)\">\n",
       "<text style=\"fill:#000000; fill-opacity:1; font-family:Arial,Helvetica Neue,Helvetica,sans-serif; font-size:48px; text-anchor:start;\" transform=\"rotate(0, 2174.5, 269.224)\" x=\"2174.5\" y=\"269.224\">1</text>\n",
       "</g>\n",
       "</svg>\n"
      ]
     },
     "execution_count": 38,
     "metadata": {},
     "output_type": "execute_result"
    }
   ],
   "source": [
    "plot(df[:a], [df[:b], df[:c]], group=df[:e], colour = [:red :blue :green :black], layout=2)"
   ]
  },
  {
   "cell_type": "markdown",
   "metadata": {},
   "source": [
    "### Zadanie \n",
    "- Napisać program w języku C używającego  interfejsu GSL do BLAS:<a href=\"https://www.gnu.org/software/gsl/doc/html/blas.html?highlight=blas#c.gsl_blas_ddot\"> funkcji gsl_blas_ddot </a> (mnożenie dwóch wektorów) i \n",
    "<a href=\"https://www.gnu.org/software/gsl/doc/html/blas.html?highlight=blas#c.gsl_blas_dgemv\">gsl_blas_dgemv</a> (mnożenie macierzy przez wektor). <a href=\"https://www.gnu.org/software/gsl/doc/html/blas.html?highlight=blas#examples\"> Przykłady użycia.</a>\n",
    "- Uruchomić i zmierzyć czasy działania obydwu funkcji - każdej dla różnych rozmiarów wektorów.  Dokonać 10 pomiarów dla każdego rozmiaru wektora.\n",
    "- Czasy działania powinny  być zapisywane do <b>jednego</b> pliku CSV. Należy zaplanować odpowiednią strukturę kolumn takiego pliku.\n",
    "- Wczytać dane z w/w pliku do <b>jednego</b> DataFrame w języku Julia. \n",
    "- Korzystająć z mechanizmów DataFrame w języku Julia obliczyć średnią i odchylenie standardowe, w taki sposób, aby narysować wykresy średnich czasów obliczenia operacji BLAS w zależności od rozmiaru wektora (macierzy) osobno dla poziomu 1 i poziomu 2. Dodać słupki błędów do obydwu wykresów uzyskanych z obliczenia odchylenia standardowego. Prosze poukladac wykresy  w tabalke za pomoca  opcji layout\n",
    "- Należy zadbać o staranne podpisanie osi i wykresów."
   ]
  },
  {
   "cell_type": "code",
   "execution_count": 15,
   "metadata": {},
   "outputs": [
    {
     "ename": "LoadError",
     "evalue": "syntax: extra token \"calculate_time\" after end of expression",
     "output_type": "error",
     "traceback": [
      "syntax: extra token \"calculate_time\" after end of expression",
      ""
     ]
    }
   ],
   "source": [
    "#include <stdio.h>\n",
    "#include <gsl/gsl_blas.h>\n",
    "#include <gsl/gsl_errno.h>\n",
    "#include <gsl/gsl_matrix.h>\n",
    "#include <gsl/gsl_vector.h>\n",
    "#include <time.h>\n",
    "#include <sys/times.h>\n",
    "#include <unistd.h>\n",
    "\n",
    "\n",
    "\n",
    "     double calculate_time(clock_t start, clock_t end){\n",
    "         return (double) (end - start) / sysconf(_SC_CLK_TCK);\n",
    "     }\n",
    "\n",
    "     double multiplicate_vectors(const gsl_vector *X, const gsl_vector *Y, double *result){\n",
    "\n",
    "         return gsl_blas_ddot(X, Y, result);\n",
    "     }\n",
    "\n",
    "     void multiplicate_vector_by_matrix(gsl_matrix *A, gsl_matrix *B, gsl_matrix *RES){\n",
    "\n",
    "         gsl_blas_dgemm(CblasNoTrans, CblasNoTrans, 1.0, A, B, 0.0, RES);\n",
    "\n",
    "     }\n",
    "\n",
    "\n",
    "     int main() {\n",
    "\n",
    "         clock_t v_start, v_end;\n",
    "         clock_t m_start, m_end;\n",
    "\n",
    "         int A_col = 1000, A_row = 600;\n",
    "\n",
    "         char* filePath = \"/home/aleksandra/Dokumenty/Mownit/results\";\n",
    "         FILE* results = fopen(filePath, \"w+\");\n",
    "\n",
    "         if(!results){\n",
    "             printf(\"Something went wrong with opening file\");\n",
    "         }\n",
    "\n",
    "         fprintf(results, \"Dim, Type, Time \\n\");\n",
    "\n",
    "         for(int i = 1; i < 11; i++){\n",
    "             int vector_size = (int) (100000 * (size_t)i);\n",
    "             gsl_vector *X = gsl_vector_alloc((const size_t) vector_size);\n",
    "             gsl_vector *Y = gsl_vector_alloc((const size_t) vector_size);\n",
    "             double result;\n",
    "\n",
    "             for(int j = 0; j < 100000*i; j++){\n",
    "                 gsl_vector_set(X, (size_t)j, 100000*j / 1.5);\n",
    "             }\n",
    "\n",
    "             for(int j = 0; j < 100000*i; j++){\n",
    "                 gsl_vector_set(Y, (size_t)j, 100000*j / 2.5);\n",
    "             }\n",
    "\n",
    "             gsl_matrix *A = gsl_matrix_alloc((size_t)A_row, (size_t)A_col);\n",
    "             gsl_matrix *B = gsl_matrix_alloc((size_t) A_col, (size_t)1);\n",
    "             gsl_matrix *RESULT = gsl_matrix_alloc((size_t) A_row, (size_t)1);\n",
    "\n",
    "             for(int k = 0; k < A_row; k++){\n",
    "                 for(int j = 0; j < k; j++){\n",
    "                     gsl_matrix_set(A, (size_t)k, (size_t)j, 100000*(k+j)/3.5);\n",
    "                 }\n",
    "             }\n",
    "\n",
    "             char* type[20];\n",
    "             double time[20];\n",
    "             for(int j = 0; j < 20; j+=2){\n",
    "\n",
    "                 v_start = clock();\n",
    "                 multiplicate_vectors(X, Y, &result);\n",
    "                 v_end = clock();\n",
    "                 time[j] = calculate_time(v_start, v_end);\n",
    "                 type[j] = \"v\";\n",
    "\n",
    "                 m_start = clock();\n",
    "                 multiplicate_vector_by_matrix(A, B, RESULT);\n",
    "                 m_end = clock();\n",
    "                 time[j+1] = calculate_time(m_start, m_end);\n",
    "                 type[j+1] = \"m\";\n",
    "             }\n",
    "\n",
    "             for(int k = 0; k < 20; k++){\n",
    "                 fprintf(results, \"%d, %s, %0.3f \\n\", vector_size, type[k], time[k]);\n",
    "             }\n",
    "\n",
    "             gsl_vector_free(X);\n",
    "             gsl_vector_free(Y);\n",
    "\n",
    "             gsl_matrix_free(A);\n",
    "             gsl_matrix_free(B);\n",
    "\n",
    "         }\n",
    "\n",
    "         return 0;\n",
    "     }"
   ]
  },
  {
   "cell_type": "code",
   "execution_count": 1,
   "metadata": {},
   "outputs": [
    {
     "data": {
      "text/html": [
       "<table class=\"data-frame\"><thead><tr><th></th><th>Dim</th><th>Type</th><th>Time</th></tr><tr><th></th><th>Int64⍰</th><th>String⍰</th><th>Float64⍰</th></tr></thead><tbody><p>200 rows × 3 columns</p><tr><th>1</th><td>100000</td><td>v</td><td>5.6</td></tr><tr><th>2</th><td>100000</td><td>m</td><td>59.82</td></tr><tr><th>3</th><td>100000</td><td>v</td><td>5.06</td></tr><tr><th>4</th><td>100000</td><td>m</td><td>55.15</td></tr><tr><th>5</th><td>100000</td><td>v</td><td>4.97</td></tr><tr><th>6</th><td>100000</td><td>m</td><td>48.57</td></tr><tr><th>7</th><td>100000</td><td>v</td><td>3.25</td></tr><tr><th>8</th><td>100000</td><td>m</td><td>29.79</td></tr><tr><th>9</th><td>100000</td><td>v</td><td>2.82</td></tr><tr><th>10</th><td>100000</td><td>m</td><td>33.61</td></tr><tr><th>11</th><td>100000</td><td>v</td><td>3.23</td></tr><tr><th>12</th><td>100000</td><td>m</td><td>31.96</td></tr><tr><th>13</th><td>100000</td><td>v</td><td>3.72</td></tr><tr><th>14</th><td>100000</td><td>m</td><td>30.84</td></tr><tr><th>15</th><td>100000</td><td>v</td><td>3.99</td></tr><tr><th>16</th><td>100000</td><td>m</td><td>29.77</td></tr><tr><th>17</th><td>100000</td><td>v</td><td>3.64</td></tr><tr><th>18</th><td>100000</td><td>m</td><td>30.54</td></tr><tr><th>19</th><td>100000</td><td>v</td><td>3.35</td></tr><tr><th>20</th><td>100000</td><td>m</td><td>30.83</td></tr><tr><th>21</th><td>200000</td><td>v</td><td>4.69</td></tr><tr><th>22</th><td>200000</td><td>m</td><td>30.33</td></tr><tr><th>23</th><td>200000</td><td>v</td><td>4.35</td></tr><tr><th>24</th><td>200000</td><td>m</td><td>26.21</td></tr><tr><th>25</th><td>200000</td><td>v</td><td>4.97</td></tr><tr><th>26</th><td>200000</td><td>m</td><td>62.73</td></tr><tr><th>27</th><td>200000</td><td>v</td><td>5.03</td></tr><tr><th>28</th><td>200000</td><td>m</td><td>24.63</td></tr><tr><th>29</th><td>200000</td><td>v</td><td>4.55</td></tr><tr><th>30</th><td>200000</td><td>m</td><td>28.03</td></tr><tr><th>&vellip;</th><td>&vellip;</td><td>&vellip;</td><td>&vellip;</td></tr></tbody></table>"
      ],
      "text/latex": [
       "\\begin{tabular}{r|ccc}\n",
       "\t& Dim & Type & Time\\\\\n",
       "\t\\hline\n",
       "\t& Int64⍰ & String⍰ & Float64⍰\\\\\n",
       "\t\\hline\n",
       "\t1 & 100000 & v & 5.6 \\\\\n",
       "\t2 & 100000 & m & 59.82 \\\\\n",
       "\t3 & 100000 & v & 5.06 \\\\\n",
       "\t4 & 100000 & m & 55.15 \\\\\n",
       "\t5 & 100000 & v & 4.97 \\\\\n",
       "\t6 & 100000 & m & 48.57 \\\\\n",
       "\t7 & 100000 & v & 3.25 \\\\\n",
       "\t8 & 100000 & m & 29.79 \\\\\n",
       "\t9 & 100000 & v & 2.82 \\\\\n",
       "\t10 & 100000 & m & 33.61 \\\\\n",
       "\t11 & 100000 & v & 3.23 \\\\\n",
       "\t12 & 100000 & m & 31.96 \\\\\n",
       "\t13 & 100000 & v & 3.72 \\\\\n",
       "\t14 & 100000 & m & 30.84 \\\\\n",
       "\t15 & 100000 & v & 3.99 \\\\\n",
       "\t16 & 100000 & m & 29.77 \\\\\n",
       "\t17 & 100000 & v & 3.64 \\\\\n",
       "\t18 & 100000 & m & 30.54 \\\\\n",
       "\t19 & 100000 & v & 3.35 \\\\\n",
       "\t20 & 100000 & m & 30.83 \\\\\n",
       "\t21 & 200000 & v & 4.69 \\\\\n",
       "\t22 & 200000 & m & 30.33 \\\\\n",
       "\t23 & 200000 & v & 4.35 \\\\\n",
       "\t24 & 200000 & m & 26.21 \\\\\n",
       "\t25 & 200000 & v & 4.97 \\\\\n",
       "\t26 & 200000 & m & 62.73 \\\\\n",
       "\t27 & 200000 & v & 5.03 \\\\\n",
       "\t28 & 200000 & m & 24.63 \\\\\n",
       "\t29 & 200000 & v & 4.55 \\\\\n",
       "\t30 & 200000 & m & 28.03 \\\\\n",
       "\t$\\dots$ & $\\dots$ & $\\dots$ & $\\dots$ \\\\\n",
       "\\end{tabular}\n"
      ],
      "text/plain": [
       "200×3 DataFrame\n",
       "│ Row │ Dim     │ Type    │ Time     │\n",
       "│     │ \u001b[90mInt64⍰\u001b[39m  │ \u001b[90mString⍰\u001b[39m │ \u001b[90mFloat64⍰\u001b[39m │\n",
       "├─────┼─────────┼─────────┼──────────┤\n",
       "│ 1   │ 100000  │ v       │ 5.6      │\n",
       "│ 2   │ 100000  │ m       │ 59.82    │\n",
       "│ 3   │ 100000  │ v       │ 5.06     │\n",
       "│ 4   │ 100000  │ m       │ 55.15    │\n",
       "│ 5   │ 100000  │ v       │ 4.97     │\n",
       "│ 6   │ 100000  │ m       │ 48.57    │\n",
       "│ 7   │ 100000  │ v       │ 3.25     │\n",
       "│ 8   │ 100000  │ m       │ 29.79    │\n",
       "│ 9   │ 100000  │ v       │ 2.82     │\n",
       "│ 10  │ 100000  │ m       │ 33.61    │\n",
       "⋮\n",
       "│ 190 │ 1000000 │ m       │ 25.83    │\n",
       "│ 191 │ 1000000 │ v       │ 20.9     │\n",
       "│ 192 │ 1000000 │ m       │ 24.54    │\n",
       "│ 193 │ 1000000 │ v       │ 21.4     │\n",
       "│ 194 │ 1000000 │ m       │ 20.68    │\n",
       "│ 195 │ 1000000 │ v       │ 19.3     │\n",
       "│ 196 │ 1000000 │ m       │ 19.58    │\n",
       "│ 197 │ 1000000 │ v       │ 19.51    │\n",
       "│ 198 │ 1000000 │ m       │ 21.0     │\n",
       "│ 199 │ 1000000 │ v       │ 24.38    │\n",
       "│ 200 │ 1000000 │ m       │ 30.42    │"
      ]
     },
     "execution_count": 1,
     "metadata": {},
     "output_type": "execute_result"
    }
   ],
   "source": [
    "using DataFrames\n",
    "using CSV\n",
    "input = \"results.csv\"\n",
    "data = DataFrame()\n",
    "data = CSV.read(input, delim=\",\")"
   ]
  },
  {
   "cell_type": "code",
   "execution_count": 2,
   "metadata": {},
   "outputs": [
    {
     "data": {
      "text/html": [
       "<table class=\"data-frame\"><thead><tr><th></th><th>Dim</th><th>Type</th><th>avgTime</th><th>stdDev</th></tr><tr><th></th><th>Int64⍰</th><th>String⍰</th><th>Float64</th><th>Float64</th></tr></thead><tbody><p>20 rows × 4 columns</p><tr><th>1</th><td>100000</td><td>v</td><td>3.963</td><td>0.930305</td></tr><tr><th>2</th><td>100000</td><td>m</td><td>38.088</td><td>11.6957</td></tr><tr><th>3</th><td>200000</td><td>v</td><td>4.579</td><td>0.366741</td></tr><tr><th>4</th><td>200000</td><td>m</td><td>30.514</td><td>11.544</td></tr><tr><th>5</th><td>300000</td><td>v</td><td>6.573</td><td>0.697297</td></tr><tr><th>6</th><td>300000</td><td>m</td><td>23.344</td><td>4.12883</td></tr><tr><th>7</th><td>400000</td><td>v</td><td>7.899</td><td>0.370659</td></tr><tr><th>8</th><td>400000</td><td>m</td><td>24.441</td><td>3.70922</td></tr><tr><th>9</th><td>500000</td><td>v</td><td>9.223</td><td>0.652943</td></tr><tr><th>10</th><td>500000</td><td>m</td><td>19.484</td><td>1.14775</td></tr><tr><th>11</th><td>600000</td><td>v</td><td>11.695</td><td>1.43475</td></tr><tr><th>12</th><td>600000</td><td>m</td><td>28.272</td><td>5.55618</td></tr><tr><th>13</th><td>700000</td><td>v</td><td>12.488</td><td>0.35405</td></tr><tr><th>14</th><td>700000</td><td>m</td><td>20.759</td><td>2.29577</td></tr><tr><th>15</th><td>800000</td><td>v</td><td>14.933</td><td>0.450014</td></tr><tr><th>16</th><td>800000</td><td>m</td><td>22.779</td><td>4.06258</td></tr><tr><th>17</th><td>900000</td><td>v</td><td>19.006</td><td>1.2471</td></tr><tr><th>18</th><td>900000</td><td>m</td><td>27.975</td><td>4.19872</td></tr><tr><th>19</th><td>1000000</td><td>v</td><td>20.689</td><td>1.53331</td></tr><tr><th>20</th><td>1000000</td><td>m</td><td>23.004</td><td>3.19976</td></tr></tbody></table>"
      ],
      "text/latex": [
       "\\begin{tabular}{r|cccc}\n",
       "\t& Dim & Type & avgTime & stdDev\\\\\n",
       "\t\\hline\n",
       "\t& Int64⍰ & String⍰ & Float64 & Float64\\\\\n",
       "\t\\hline\n",
       "\t1 & 100000 & v & 3.963 & 0.930305 \\\\\n",
       "\t2 & 100000 & m & 38.088 & 11.6957 \\\\\n",
       "\t3 & 200000 & v & 4.579 & 0.366741 \\\\\n",
       "\t4 & 200000 & m & 30.514 & 11.544 \\\\\n",
       "\t5 & 300000 & v & 6.573 & 0.697297 \\\\\n",
       "\t6 & 300000 & m & 23.344 & 4.12883 \\\\\n",
       "\t7 & 400000 & v & 7.899 & 0.370659 \\\\\n",
       "\t8 & 400000 & m & 24.441 & 3.70922 \\\\\n",
       "\t9 & 500000 & v & 9.223 & 0.652943 \\\\\n",
       "\t10 & 500000 & m & 19.484 & 1.14775 \\\\\n",
       "\t11 & 600000 & v & 11.695 & 1.43475 \\\\\n",
       "\t12 & 600000 & m & 28.272 & 5.55618 \\\\\n",
       "\t13 & 700000 & v & 12.488 & 0.35405 \\\\\n",
       "\t14 & 700000 & m & 20.759 & 2.29577 \\\\\n",
       "\t15 & 800000 & v & 14.933 & 0.450014 \\\\\n",
       "\t16 & 800000 & m & 22.779 & 4.06258 \\\\\n",
       "\t17 & 900000 & v & 19.006 & 1.2471 \\\\\n",
       "\t18 & 900000 & m & 27.975 & 4.19872 \\\\\n",
       "\t19 & 1000000 & v & 20.689 & 1.53331 \\\\\n",
       "\t20 & 1000000 & m & 23.004 & 3.19976 \\\\\n",
       "\\end{tabular}\n"
      ],
      "text/plain": [
       "20×4 DataFrame\n",
       "│ Row │ Dim     │ Type    │ avgTime │ stdDev   │\n",
       "│     │ \u001b[90mInt64⍰\u001b[39m  │ \u001b[90mString⍰\u001b[39m │ \u001b[90mFloat64\u001b[39m │ \u001b[90mFloat64\u001b[39m  │\n",
       "├─────┼─────────┼─────────┼─────────┼──────────┤\n",
       "│ 1   │ 100000  │ v       │ 3.963   │ 0.930305 │\n",
       "│ 2   │ 100000  │ m       │ 38.088  │ 11.6957  │\n",
       "│ 3   │ 200000  │ v       │ 4.579   │ 0.366741 │\n",
       "│ 4   │ 200000  │ m       │ 30.514  │ 11.544   │\n",
       "│ 5   │ 300000  │ v       │ 6.573   │ 0.697297 │\n",
       "│ 6   │ 300000  │ m       │ 23.344  │ 4.12883  │\n",
       "│ 7   │ 400000  │ v       │ 7.899   │ 0.370659 │\n",
       "│ 8   │ 400000  │ m       │ 24.441  │ 3.70922  │\n",
       "│ 9   │ 500000  │ v       │ 9.223   │ 0.652943 │\n",
       "│ 10  │ 500000  │ m       │ 19.484  │ 1.14775  │\n",
       "│ 11  │ 600000  │ v       │ 11.695  │ 1.43475  │\n",
       "│ 12  │ 600000  │ m       │ 28.272  │ 5.55618  │\n",
       "│ 13  │ 700000  │ v       │ 12.488  │ 0.35405  │\n",
       "│ 14  │ 700000  │ m       │ 20.759  │ 2.29577  │\n",
       "│ 15  │ 800000  │ v       │ 14.933  │ 0.450014 │\n",
       "│ 16  │ 800000  │ m       │ 22.779  │ 4.06258  │\n",
       "│ 17  │ 900000  │ v       │ 19.006  │ 1.2471   │\n",
       "│ 18  │ 900000  │ m       │ 27.975  │ 4.19872  │\n",
       "│ 19  │ 1000000 │ v       │ 20.689  │ 1.53331  │\n",
       "│ 20  │ 1000000 │ m       │ 23.004  │ 3.19976  │"
      ]
     },
     "execution_count": 2,
     "metadata": {},
     "output_type": "execute_result"
    }
   ],
   "source": [
    "using Statistics\n",
    "my_df = by(data, [:Dim,:Type], avgTime = :Time => mean, stdDev = :Time => std)"
   ]
  },
  {
   "cell_type": "code",
   "execution_count": 6,
   "metadata": {},
   "outputs": [
    {
     "data": {
      "image/svg+xml": [
       "<?xml version=\"1.0\" encoding=\"utf-8\"?>\n",
       "<svg xmlns=\"http://www.w3.org/2000/svg\" xmlns:xlink=\"http://www.w3.org/1999/xlink\" width=\"600\" height=\"400\" viewBox=\"0 0 2400 1600\">\n",
       "<defs>\n",
       "  <clipPath id=\"clip1700\">\n",
       "    <rect x=\"0\" y=\"0\" width=\"2000\" height=\"2000\"/>\n",
       "  </clipPath>\n",
       "</defs>\n",
       "<defs>\n",
       "  <clipPath id=\"clip1701\">\n",
       "    <rect x=\"0\" y=\"0\" width=\"2400\" height=\"1600\"/>\n",
       "  </clipPath>\n",
       "</defs>\n",
       "<polygon clip-path=\"url(#clip1701)\" points=\"\n",
       "0,1600 2400,1600 2400,0 0,0 \n",
       "  \" fill=\"#ffffff\" fill-rule=\"evenodd\" fill-opacity=\"1\"/>\n",
       "<defs>\n",
       "  <clipPath id=\"clip1702\">\n",
       "    <rect x=\"480\" y=\"0\" width=\"1681\" height=\"1600\"/>\n",
       "  </clipPath>\n",
       "</defs>\n",
       "<polygon clip-path=\"url(#clip1701)\" points=\"\n",
       "211.005,1440.48 2321.26,1440.48 2321.26,125.984 211.005,125.984 \n",
       "  \" fill=\"#ffffff\" fill-rule=\"evenodd\" fill-opacity=\"1\"/>\n",
       "<defs>\n",
       "  <clipPath id=\"clip1703\">\n",
       "    <rect x=\"211\" y=\"125\" width=\"2111\" height=\"1315\"/>\n",
       "  </clipPath>\n",
       "</defs>\n",
       "<polyline clip-path=\"url(#clip1703)\" style=\"stroke:#000000; stroke-width:2; stroke-opacity:0.1; fill:none\" points=\"\n",
       "  491.93,1440.48 491.93,125.984 \n",
       "  \"/>\n",
       "<polyline clip-path=\"url(#clip1703)\" style=\"stroke:#000000; stroke-width:2; stroke-opacity:0.1; fill:none\" points=\"\n",
       "  934.331,1440.48 934.331,125.984 \n",
       "  \"/>\n",
       "<polyline clip-path=\"url(#clip1703)\" style=\"stroke:#000000; stroke-width:2; stroke-opacity:0.1; fill:none\" points=\"\n",
       "  1376.73,1440.48 1376.73,125.984 \n",
       "  \"/>\n",
       "<polyline clip-path=\"url(#clip1703)\" style=\"stroke:#000000; stroke-width:2; stroke-opacity:0.1; fill:none\" points=\"\n",
       "  1819.13,1440.48 1819.13,125.984 \n",
       "  \"/>\n",
       "<polyline clip-path=\"url(#clip1703)\" style=\"stroke:#000000; stroke-width:2; stroke-opacity:0.1; fill:none\" points=\"\n",
       "  2261.54,1440.48 2261.54,125.984 \n",
       "  \"/>\n",
       "<polyline clip-path=\"url(#clip1703)\" style=\"stroke:#000000; stroke-width:2; stroke-opacity:0.1; fill:none\" points=\"\n",
       "  211.005,1218.47 2321.26,1218.47 \n",
       "  \"/>\n",
       "<polyline clip-path=\"url(#clip1703)\" style=\"stroke:#000000; stroke-width:2; stroke-opacity:0.1; fill:none\" points=\"\n",
       "  211.005,953.214 2321.26,953.214 \n",
       "  \"/>\n",
       "<polyline clip-path=\"url(#clip1703)\" style=\"stroke:#000000; stroke-width:2; stroke-opacity:0.1; fill:none\" points=\"\n",
       "  211.005,687.959 2321.26,687.959 \n",
       "  \"/>\n",
       "<polyline clip-path=\"url(#clip1703)\" style=\"stroke:#000000; stroke-width:2; stroke-opacity:0.1; fill:none\" points=\"\n",
       "  211.005,422.704 2321.26,422.704 \n",
       "  \"/>\n",
       "<polyline clip-path=\"url(#clip1703)\" style=\"stroke:#000000; stroke-width:2; stroke-opacity:0.1; fill:none\" points=\"\n",
       "  211.005,157.449 2321.26,157.449 \n",
       "  \"/>\n",
       "<polyline clip-path=\"url(#clip1701)\" style=\"stroke:#000000; stroke-width:4; stroke-opacity:1; fill:none\" points=\"\n",
       "  211.005,1440.48 2321.26,1440.48 \n",
       "  \"/>\n",
       "<polyline clip-path=\"url(#clip1701)\" style=\"stroke:#000000; stroke-width:4; stroke-opacity:1; fill:none\" points=\"\n",
       "  211.005,1440.48 211.005,125.984 \n",
       "  \"/>\n",
       "<polyline clip-path=\"url(#clip1701)\" style=\"stroke:#000000; stroke-width:4; stroke-opacity:1; fill:none\" points=\"\n",
       "  491.93,1440.48 491.93,1420.77 \n",
       "  \"/>\n",
       "<polyline clip-path=\"url(#clip1701)\" style=\"stroke:#000000; stroke-width:4; stroke-opacity:1; fill:none\" points=\"\n",
       "  934.331,1440.48 934.331,1420.77 \n",
       "  \"/>\n",
       "<polyline clip-path=\"url(#clip1701)\" style=\"stroke:#000000; stroke-width:4; stroke-opacity:1; fill:none\" points=\"\n",
       "  1376.73,1440.48 1376.73,1420.77 \n",
       "  \"/>\n",
       "<polyline clip-path=\"url(#clip1701)\" style=\"stroke:#000000; stroke-width:4; stroke-opacity:1; fill:none\" points=\"\n",
       "  1819.13,1440.48 1819.13,1420.77 \n",
       "  \"/>\n",
       "<polyline clip-path=\"url(#clip1701)\" style=\"stroke:#000000; stroke-width:4; stroke-opacity:1; fill:none\" points=\"\n",
       "  2261.54,1440.48 2261.54,1420.77 \n",
       "  \"/>\n",
       "<polyline clip-path=\"url(#clip1701)\" style=\"stroke:#000000; stroke-width:4; stroke-opacity:1; fill:none\" points=\"\n",
       "  211.005,1218.47 242.659,1218.47 \n",
       "  \"/>\n",
       "<polyline clip-path=\"url(#clip1701)\" style=\"stroke:#000000; stroke-width:4; stroke-opacity:1; fill:none\" points=\"\n",
       "  211.005,953.214 242.659,953.214 \n",
       "  \"/>\n",
       "<polyline clip-path=\"url(#clip1701)\" style=\"stroke:#000000; stroke-width:4; stroke-opacity:1; fill:none\" points=\"\n",
       "  211.005,687.959 242.659,687.959 \n",
       "  \"/>\n",
       "<polyline clip-path=\"url(#clip1701)\" style=\"stroke:#000000; stroke-width:4; stroke-opacity:1; fill:none\" points=\"\n",
       "  211.005,422.704 242.659,422.704 \n",
       "  \"/>\n",
       "<polyline clip-path=\"url(#clip1701)\" style=\"stroke:#000000; stroke-width:4; stroke-opacity:1; fill:none\" points=\"\n",
       "  211.005,157.449 242.659,157.449 \n",
       "  \"/>\n",
       "<g clip-path=\"url(#clip1701)\">\n",
       "<text style=\"fill:#000000; fill-opacity:1; font-family:Arial,Helvetica Neue,Helvetica,sans-serif; font-size:48px; text-anchor:start;\" transform=\"rotate(0, 426.859, 1515.49)\" x=\"426.859\" y=\"1515.49\">2×10</text>\n",
       "</g>\n",
       "<g clip-path=\"url(#clip1701)\">\n",
       "<text style=\"fill:#000000; fill-opacity:1; font-family:Arial,Helvetica Neue,Helvetica,sans-serif; font-size:38px; text-anchor:start;\" transform=\"rotate(0, 535.256, 1488.08)\" x=\"535.256\" y=\"1488.08\">5</text>\n",
       "</g>\n",
       "<g clip-path=\"url(#clip1701)\">\n",
       "<text style=\"fill:#000000; fill-opacity:1; font-family:Arial,Helvetica Neue,Helvetica,sans-serif; font-size:48px; text-anchor:start;\" transform=\"rotate(0, 869.261, 1515.49)\" x=\"869.261\" y=\"1515.49\">4×10</text>\n",
       "</g>\n",
       "<g clip-path=\"url(#clip1701)\">\n",
       "<text style=\"fill:#000000; fill-opacity:1; font-family:Arial,Helvetica Neue,Helvetica,sans-serif; font-size:38px; text-anchor:start;\" transform=\"rotate(0, 977.658, 1488.08)\" x=\"977.658\" y=\"1488.08\">5</text>\n",
       "</g>\n",
       "<g clip-path=\"url(#clip1701)\">\n",
       "<text style=\"fill:#000000; fill-opacity:1; font-family:Arial,Helvetica Neue,Helvetica,sans-serif; font-size:48px; text-anchor:start;\" transform=\"rotate(0, 1311.66, 1515.49)\" x=\"1311.66\" y=\"1515.49\">6×10</text>\n",
       "</g>\n",
       "<g clip-path=\"url(#clip1701)\">\n",
       "<text style=\"fill:#000000; fill-opacity:1; font-family:Arial,Helvetica Neue,Helvetica,sans-serif; font-size:38px; text-anchor:start;\" transform=\"rotate(0, 1420.06, 1488.08)\" x=\"1420.06\" y=\"1488.08\">5</text>\n",
       "</g>\n",
       "<g clip-path=\"url(#clip1701)\">\n",
       "<text style=\"fill:#000000; fill-opacity:1; font-family:Arial,Helvetica Neue,Helvetica,sans-serif; font-size:48px; text-anchor:start;\" transform=\"rotate(0, 1754.06, 1515.49)\" x=\"1754.06\" y=\"1515.49\">8×10</text>\n",
       "</g>\n",
       "<g clip-path=\"url(#clip1701)\">\n",
       "<text style=\"fill:#000000; fill-opacity:1; font-family:Arial,Helvetica Neue,Helvetica,sans-serif; font-size:38px; text-anchor:start;\" transform=\"rotate(0, 1862.46, 1488.08)\" x=\"1862.46\" y=\"1488.08\">5</text>\n",
       "</g>\n",
       "<g clip-path=\"url(#clip1701)\">\n",
       "<text style=\"fill:#000000; fill-opacity:1; font-family:Arial,Helvetica Neue,Helvetica,sans-serif; font-size:48px; text-anchor:start;\" transform=\"rotate(0, 2196.46, 1515.49)\" x=\"2196.46\" y=\"1515.49\">1×10</text>\n",
       "</g>\n",
       "<g clip-path=\"url(#clip1701)\">\n",
       "<text style=\"fill:#000000; fill-opacity:1; font-family:Arial,Helvetica Neue,Helvetica,sans-serif; font-size:38px; text-anchor:start;\" transform=\"rotate(0, 2304.86, 1488.08)\" x=\"2304.86\" y=\"1488.08\">6</text>\n",
       "</g>\n",
       "<g clip-path=\"url(#clip1701)\">\n",
       "<text style=\"fill:#000000; fill-opacity:1; font-family:Arial,Helvetica Neue,Helvetica,sans-serif; font-size:48px; text-anchor:end;\" transform=\"rotate(0, 187.005, 1235.97)\" x=\"187.005\" y=\"1235.97\">10</text>\n",
       "</g>\n",
       "<g clip-path=\"url(#clip1701)\">\n",
       "<text style=\"fill:#000000; fill-opacity:1; font-family:Arial,Helvetica Neue,Helvetica,sans-serif; font-size:48px; text-anchor:end;\" transform=\"rotate(0, 187.005, 970.714)\" x=\"187.005\" y=\"970.714\">20</text>\n",
       "</g>\n",
       "<g clip-path=\"url(#clip1701)\">\n",
       "<text style=\"fill:#000000; fill-opacity:1; font-family:Arial,Helvetica Neue,Helvetica,sans-serif; font-size:48px; text-anchor:end;\" transform=\"rotate(0, 187.005, 705.459)\" x=\"187.005\" y=\"705.459\">30</text>\n",
       "</g>\n",
       "<g clip-path=\"url(#clip1701)\">\n",
       "<text style=\"fill:#000000; fill-opacity:1; font-family:Arial,Helvetica Neue,Helvetica,sans-serif; font-size:48px; text-anchor:end;\" transform=\"rotate(0, 187.005, 440.204)\" x=\"187.005\" y=\"440.204\">40</text>\n",
       "</g>\n",
       "<g clip-path=\"url(#clip1701)\">\n",
       "<text style=\"fill:#000000; fill-opacity:1; font-family:Arial,Helvetica Neue,Helvetica,sans-serif; font-size:48px; text-anchor:end;\" transform=\"rotate(0, 187.005, 174.949)\" x=\"187.005\" y=\"174.949\">50</text>\n",
       "</g>\n",
       "<g clip-path=\"url(#clip1701)\">\n",
       "<text style=\"fill:#000000; fill-opacity:1; font-family:Arial,Helvetica Neue,Helvetica,sans-serif; font-size:84px; text-anchor:middle;\" transform=\"rotate(0, 1266.13, 73.2)\" x=\"1266.13\" y=\"73.2\">Multiplication time</text>\n",
       "</g>\n",
       "<g clip-path=\"url(#clip1701)\">\n",
       "<text style=\"fill:#000000; fill-opacity:1; font-family:Arial,Helvetica Neue,Helvetica,sans-serif; font-size:66px; text-anchor:middle;\" transform=\"rotate(0, 1266.13, 1590.4)\" x=\"1266.13\" y=\"1590.4\">dim</text>\n",
       "</g>\n",
       "<g clip-path=\"url(#clip1701)\">\n",
       "<text style=\"fill:#000000; fill-opacity:1; font-family:Arial,Helvetica Neue,Helvetica,sans-serif; font-size:66px; text-anchor:middle;\" transform=\"rotate(-90, 57.6, 783.233)\" x=\"57.6\" y=\"783.233\">time [ns]</text>\n",
       "</g>\n",
       "<circle clip-path=\"url(#clip1703)\" style=\"fill:#000000; stroke:none; fill-opacity:1\" cx=\"270.729\" cy=\"473.421\" r=\"18\"/>\n",
       "<circle clip-path=\"url(#clip1703)\" style=\"fill:#009af9; stroke:none; fill-opacity:1\" cx=\"270.729\" cy=\"473.421\" r=\"14\"/>\n",
       "<circle clip-path=\"url(#clip1703)\" style=\"fill:#000000; stroke:none; fill-opacity:1\" cx=\"491.93\" cy=\"674.325\" r=\"18\"/>\n",
       "<circle clip-path=\"url(#clip1703)\" style=\"fill:#009af9; stroke:none; fill-opacity:1\" cx=\"491.93\" cy=\"674.325\" r=\"14\"/>\n",
       "<circle clip-path=\"url(#clip1703)\" style=\"fill:#000000; stroke:none; fill-opacity:1\" cx=\"713.131\" cy=\"864.512\" r=\"18\"/>\n",
       "<circle clip-path=\"url(#clip1703)\" style=\"fill:#009af9; stroke:none; fill-opacity:1\" cx=\"713.131\" cy=\"864.512\" r=\"14\"/>\n",
       "<circle clip-path=\"url(#clip1703)\" style=\"fill:#000000; stroke:none; fill-opacity:1\" cx=\"934.331\" cy=\"835.414\" r=\"18\"/>\n",
       "<circle clip-path=\"url(#clip1703)\" style=\"fill:#009af9; stroke:none; fill-opacity:1\" cx=\"934.331\" cy=\"835.414\" r=\"14\"/>\n",
       "<circle clip-path=\"url(#clip1703)\" style=\"fill:#000000; stroke:none; fill-opacity:1\" cx=\"1155.53\" cy=\"966.901\" r=\"18\"/>\n",
       "<circle clip-path=\"url(#clip1703)\" style=\"fill:#009af9; stroke:none; fill-opacity:1\" cx=\"1155.53\" cy=\"966.901\" r=\"14\"/>\n",
       "<circle clip-path=\"url(#clip1703)\" style=\"fill:#000000; stroke:none; fill-opacity:1\" cx=\"1376.73\" cy=\"733.795\" r=\"18\"/>\n",
       "<circle clip-path=\"url(#clip1703)\" style=\"fill:#009af9; stroke:none; fill-opacity:1\" cx=\"1376.73\" cy=\"733.795\" r=\"14\"/>\n",
       "<circle clip-path=\"url(#clip1703)\" style=\"fill:#000000; stroke:none; fill-opacity:1\" cx=\"1597.93\" cy=\"933.081\" r=\"18\"/>\n",
       "<circle clip-path=\"url(#clip1703)\" style=\"fill:#009af9; stroke:none; fill-opacity:1\" cx=\"1597.93\" cy=\"933.081\" r=\"14\"/>\n",
       "<circle clip-path=\"url(#clip1703)\" style=\"fill:#000000; stroke:none; fill-opacity:1\" cx=\"1819.13\" cy=\"879.499\" r=\"18\"/>\n",
       "<circle clip-path=\"url(#clip1703)\" style=\"fill:#009af9; stroke:none; fill-opacity:1\" cx=\"1819.13\" cy=\"879.499\" r=\"14\"/>\n",
       "<circle clip-path=\"url(#clip1703)\" style=\"fill:#000000; stroke:none; fill-opacity:1\" cx=\"2040.33\" cy=\"741.673\" r=\"18\"/>\n",
       "<circle clip-path=\"url(#clip1703)\" style=\"fill:#009af9; stroke:none; fill-opacity:1\" cx=\"2040.33\" cy=\"741.673\" r=\"14\"/>\n",
       "<circle clip-path=\"url(#clip1703)\" style=\"fill:#000000; stroke:none; fill-opacity:1\" cx=\"2261.54\" cy=\"873.531\" r=\"18\"/>\n",
       "<circle clip-path=\"url(#clip1703)\" style=\"fill:#009af9; stroke:none; fill-opacity:1\" cx=\"2261.54\" cy=\"873.531\" r=\"14\"/>\n",
       "<polyline clip-path=\"url(#clip1703)\" style=\"stroke:#009af9; stroke-width:4; stroke-opacity:1; fill:none\" points=\"\n",
       "  270.729,783.654 270.729,163.187 \n",
       "  \"/>\n",
       "<polyline clip-path=\"url(#clip1703)\" style=\"stroke:#009af9; stroke-width:4; stroke-opacity:1; fill:none\" points=\"\n",
       "  491.93,980.534 491.93,368.115 \n",
       "  \"/>\n",
       "<polyline clip-path=\"url(#clip1703)\" style=\"stroke:#009af9; stroke-width:4; stroke-opacity:1; fill:none\" points=\"\n",
       "  713.131,974.032 713.131,754.993 \n",
       "  \"/>\n",
       "<polyline clip-path=\"url(#clip1703)\" style=\"stroke:#009af9; stroke-width:4; stroke-opacity:1; fill:none\" points=\"\n",
       "  934.331,933.803 934.331,737.025 \n",
       "  \"/>\n",
       "<polyline clip-path=\"url(#clip1703)\" style=\"stroke:#009af9; stroke-width:4; stroke-opacity:1; fill:none\" points=\"\n",
       "  1155.53,997.346 1155.53,936.456 \n",
       "  \"/>\n",
       "<polyline clip-path=\"url(#clip1703)\" style=\"stroke:#009af9; stroke-width:4; stroke-opacity:1; fill:none\" points=\"\n",
       "  1376.73,881.175 1376.73,586.414 \n",
       "  \"/>\n",
       "<polyline clip-path=\"url(#clip1703)\" style=\"stroke:#009af9; stroke-width:4; stroke-opacity:1; fill:none\" points=\"\n",
       "  1597.93,993.977 1597.93,872.184 \n",
       "  \"/>\n",
       "<polyline clip-path=\"url(#clip1703)\" style=\"stroke:#009af9; stroke-width:4; stroke-opacity:1; fill:none\" points=\"\n",
       "  1819.13,987.261 1819.13,771.738 \n",
       "  \"/>\n",
       "<polyline clip-path=\"url(#clip1703)\" style=\"stroke:#009af9; stroke-width:4; stroke-opacity:1; fill:none\" points=\"\n",
       "  2040.33,853.046 2040.33,630.3 \n",
       "  \"/>\n",
       "<polyline clip-path=\"url(#clip1703)\" style=\"stroke:#009af9; stroke-width:4; stroke-opacity:1; fill:none\" points=\"\n",
       "  2261.54,958.406 2261.54,788.656 \n",
       "  \"/>\n",
       "<line clip-path=\"url(#clip1703)\" x1=\"290.729\" y1=\"783.654\" x2=\"250.729\" y2=\"783.654\" style=\"stroke:#000000; stroke-width:4; stroke-opacity:1\"/>\n",
       "<line clip-path=\"url(#clip1703)\" x1=\"290.729\" y1=\"163.187\" x2=\"250.729\" y2=\"163.187\" style=\"stroke:#000000; stroke-width:4; stroke-opacity:1\"/>\n",
       "<line clip-path=\"url(#clip1703)\" x1=\"511.93\" y1=\"980.534\" x2=\"471.93\" y2=\"980.534\" style=\"stroke:#000000; stroke-width:4; stroke-opacity:1\"/>\n",
       "<line clip-path=\"url(#clip1703)\" x1=\"511.93\" y1=\"368.115\" x2=\"471.93\" y2=\"368.115\" style=\"stroke:#000000; stroke-width:4; stroke-opacity:1\"/>\n",
       "<line clip-path=\"url(#clip1703)\" x1=\"733.131\" y1=\"974.032\" x2=\"693.131\" y2=\"974.032\" style=\"stroke:#000000; stroke-width:4; stroke-opacity:1\"/>\n",
       "<line clip-path=\"url(#clip1703)\" x1=\"733.131\" y1=\"754.993\" x2=\"693.131\" y2=\"754.993\" style=\"stroke:#000000; stroke-width:4; stroke-opacity:1\"/>\n",
       "<line clip-path=\"url(#clip1703)\" x1=\"954.331\" y1=\"933.803\" x2=\"914.331\" y2=\"933.803\" style=\"stroke:#000000; stroke-width:4; stroke-opacity:1\"/>\n",
       "<line clip-path=\"url(#clip1703)\" x1=\"954.331\" y1=\"737.025\" x2=\"914.331\" y2=\"737.025\" style=\"stroke:#000000; stroke-width:4; stroke-opacity:1\"/>\n",
       "<line clip-path=\"url(#clip1703)\" x1=\"1175.53\" y1=\"997.346\" x2=\"1135.53\" y2=\"997.346\" style=\"stroke:#000000; stroke-width:4; stroke-opacity:1\"/>\n",
       "<line clip-path=\"url(#clip1703)\" x1=\"1175.53\" y1=\"936.456\" x2=\"1135.53\" y2=\"936.456\" style=\"stroke:#000000; stroke-width:4; stroke-opacity:1\"/>\n",
       "<line clip-path=\"url(#clip1703)\" x1=\"1396.73\" y1=\"881.175\" x2=\"1356.73\" y2=\"881.175\" style=\"stroke:#000000; stroke-width:4; stroke-opacity:1\"/>\n",
       "<line clip-path=\"url(#clip1703)\" x1=\"1396.73\" y1=\"586.414\" x2=\"1356.73\" y2=\"586.414\" style=\"stroke:#000000; stroke-width:4; stroke-opacity:1\"/>\n",
       "<line clip-path=\"url(#clip1703)\" x1=\"1617.93\" y1=\"993.977\" x2=\"1577.93\" y2=\"993.977\" style=\"stroke:#000000; stroke-width:4; stroke-opacity:1\"/>\n",
       "<line clip-path=\"url(#clip1703)\" x1=\"1617.93\" y1=\"872.184\" x2=\"1577.93\" y2=\"872.184\" style=\"stroke:#000000; stroke-width:4; stroke-opacity:1\"/>\n",
       "<line clip-path=\"url(#clip1703)\" x1=\"1839.13\" y1=\"987.261\" x2=\"1799.13\" y2=\"987.261\" style=\"stroke:#000000; stroke-width:4; stroke-opacity:1\"/>\n",
       "<line clip-path=\"url(#clip1703)\" x1=\"1839.13\" y1=\"771.738\" x2=\"1799.13\" y2=\"771.738\" style=\"stroke:#000000; stroke-width:4; stroke-opacity:1\"/>\n",
       "<line clip-path=\"url(#clip1703)\" x1=\"2060.33\" y1=\"853.046\" x2=\"2020.33\" y2=\"853.046\" style=\"stroke:#000000; stroke-width:4; stroke-opacity:1\"/>\n",
       "<line clip-path=\"url(#clip1703)\" x1=\"2060.33\" y1=\"630.3\" x2=\"2020.33\" y2=\"630.3\" style=\"stroke:#000000; stroke-width:4; stroke-opacity:1\"/>\n",
       "<line clip-path=\"url(#clip1703)\" x1=\"2281.54\" y1=\"958.406\" x2=\"2241.54\" y2=\"958.406\" style=\"stroke:#000000; stroke-width:4; stroke-opacity:1\"/>\n",
       "<line clip-path=\"url(#clip1703)\" x1=\"2281.54\" y1=\"788.656\" x2=\"2241.54\" y2=\"788.656\" style=\"stroke:#000000; stroke-width:4; stroke-opacity:1\"/>\n",
       "<circle clip-path=\"url(#clip1703)\" style=\"fill:#000000; stroke:none; fill-opacity:1\" cx=\"270.729\" cy=\"1378.6\" r=\"18\"/>\n",
       "<circle clip-path=\"url(#clip1703)\" style=\"fill:#e26f46; stroke:none; fill-opacity:1\" cx=\"270.729\" cy=\"1378.6\" r=\"14\"/>\n",
       "<circle clip-path=\"url(#clip1703)\" style=\"fill:#000000; stroke:none; fill-opacity:1\" cx=\"491.93\" cy=\"1362.26\" r=\"18\"/>\n",
       "<circle clip-path=\"url(#clip1703)\" style=\"fill:#e26f46; stroke:none; fill-opacity:1\" cx=\"491.93\" cy=\"1362.26\" r=\"14\"/>\n",
       "<circle clip-path=\"url(#clip1703)\" style=\"fill:#000000; stroke:none; fill-opacity:1\" cx=\"713.131\" cy=\"1309.37\" r=\"18\"/>\n",
       "<circle clip-path=\"url(#clip1703)\" style=\"fill:#e26f46; stroke:none; fill-opacity:1\" cx=\"713.131\" cy=\"1309.37\" r=\"14\"/>\n",
       "<circle clip-path=\"url(#clip1703)\" style=\"fill:#000000; stroke:none; fill-opacity:1\" cx=\"934.331\" cy=\"1274.2\" r=\"18\"/>\n",
       "<circle clip-path=\"url(#clip1703)\" style=\"fill:#e26f46; stroke:none; fill-opacity:1\" cx=\"934.331\" cy=\"1274.2\" r=\"14\"/>\n",
       "<circle clip-path=\"url(#clip1703)\" style=\"fill:#000000; stroke:none; fill-opacity:1\" cx=\"1155.53\" cy=\"1239.08\" r=\"18\"/>\n",
       "<circle clip-path=\"url(#clip1703)\" style=\"fill:#e26f46; stroke:none; fill-opacity:1\" cx=\"1155.53\" cy=\"1239.08\" r=\"14\"/>\n",
       "<circle clip-path=\"url(#clip1703)\" style=\"fill:#000000; stroke:none; fill-opacity:1\" cx=\"1376.73\" cy=\"1173.51\" r=\"18\"/>\n",
       "<circle clip-path=\"url(#clip1703)\" style=\"fill:#e26f46; stroke:none; fill-opacity:1\" cx=\"1376.73\" cy=\"1173.51\" r=\"14\"/>\n",
       "<circle clip-path=\"url(#clip1703)\" style=\"fill:#000000; stroke:none; fill-opacity:1\" cx=\"1597.93\" cy=\"1152.47\" r=\"18\"/>\n",
       "<circle clip-path=\"url(#clip1703)\" style=\"fill:#e26f46; stroke:none; fill-opacity:1\" cx=\"1597.93\" cy=\"1152.47\" r=\"14\"/>\n",
       "<circle clip-path=\"url(#clip1703)\" style=\"fill:#000000; stroke:none; fill-opacity:1\" cx=\"1819.13\" cy=\"1087.62\" r=\"18\"/>\n",
       "<circle clip-path=\"url(#clip1703)\" style=\"fill:#e26f46; stroke:none; fill-opacity:1\" cx=\"1819.13\" cy=\"1087.62\" r=\"14\"/>\n",
       "<circle clip-path=\"url(#clip1703)\" style=\"fill:#000000; stroke:none; fill-opacity:1\" cx=\"2040.33\" cy=\"979.58\" r=\"18\"/>\n",
       "<circle clip-path=\"url(#clip1703)\" style=\"fill:#e26f46; stroke:none; fill-opacity:1\" cx=\"2040.33\" cy=\"979.58\" r=\"14\"/>\n",
       "<circle clip-path=\"url(#clip1703)\" style=\"fill:#000000; stroke:none; fill-opacity:1\" cx=\"2261.54\" cy=\"934.938\" r=\"18\"/>\n",
       "<circle clip-path=\"url(#clip1703)\" style=\"fill:#e26f46; stroke:none; fill-opacity:1\" cx=\"2261.54\" cy=\"934.938\" r=\"14\"/>\n",
       "<polyline clip-path=\"url(#clip1703)\" style=\"stroke:#e26f46; stroke-width:4; stroke-opacity:1; fill:none\" points=\"\n",
       "  270.729,1403.28 270.729,1353.93 \n",
       "  \"/>\n",
       "<polyline clip-path=\"url(#clip1703)\" style=\"stroke:#e26f46; stroke-width:4; stroke-opacity:1; fill:none\" points=\"\n",
       "  491.93,1371.99 491.93,1352.54 \n",
       "  \"/>\n",
       "<polyline clip-path=\"url(#clip1703)\" style=\"stroke:#e26f46; stroke-width:4; stroke-opacity:1; fill:none\" points=\"\n",
       "  713.131,1327.87 713.131,1290.88 \n",
       "  \"/>\n",
       "<polyline clip-path=\"url(#clip1703)\" style=\"stroke:#e26f46; stroke-width:4; stroke-opacity:1; fill:none\" points=\"\n",
       "  934.331,1284.03 934.331,1264.37 \n",
       "  \"/>\n",
       "<polyline clip-path=\"url(#clip1703)\" style=\"stroke:#e26f46; stroke-width:4; stroke-opacity:1; fill:none\" points=\"\n",
       "  1155.53,1256.4 1155.53,1221.76 \n",
       "  \"/>\n",
       "<polyline clip-path=\"url(#clip1703)\" style=\"stroke:#e26f46; stroke-width:4; stroke-opacity:1; fill:none\" points=\"\n",
       "  1376.73,1211.57 1376.73,1135.45 \n",
       "  \"/>\n",
       "<polyline clip-path=\"url(#clip1703)\" style=\"stroke:#e26f46; stroke-width:4; stroke-opacity:1; fill:none\" points=\"\n",
       "  1597.93,1161.86 1597.93,1143.08 \n",
       "  \"/>\n",
       "<polyline clip-path=\"url(#clip1703)\" style=\"stroke:#e26f46; stroke-width:4; stroke-opacity:1; fill:none\" points=\"\n",
       "  1819.13,1099.56 1819.13,1075.68 \n",
       "  \"/>\n",
       "<polyline clip-path=\"url(#clip1703)\" style=\"stroke:#e26f46; stroke-width:4; stroke-opacity:1; fill:none\" points=\"\n",
       "  2040.33,1012.66 2040.33,946.5 \n",
       "  \"/>\n",
       "<polyline clip-path=\"url(#clip1703)\" style=\"stroke:#e26f46; stroke-width:4; stroke-opacity:1; fill:none\" points=\"\n",
       "  2261.54,975.61 2261.54,894.266 \n",
       "  \"/>\n",
       "<line clip-path=\"url(#clip1703)\" x1=\"290.729\" y1=\"1403.28\" x2=\"250.729\" y2=\"1403.28\" style=\"stroke:#000000; stroke-width:4; stroke-opacity:1\"/>\n",
       "<line clip-path=\"url(#clip1703)\" x1=\"290.729\" y1=\"1353.93\" x2=\"250.729\" y2=\"1353.93\" style=\"stroke:#000000; stroke-width:4; stroke-opacity:1\"/>\n",
       "<line clip-path=\"url(#clip1703)\" x1=\"511.93\" y1=\"1371.99\" x2=\"471.93\" y2=\"1371.99\" style=\"stroke:#000000; stroke-width:4; stroke-opacity:1\"/>\n",
       "<line clip-path=\"url(#clip1703)\" x1=\"511.93\" y1=\"1352.54\" x2=\"471.93\" y2=\"1352.54\" style=\"stroke:#000000; stroke-width:4; stroke-opacity:1\"/>\n",
       "<line clip-path=\"url(#clip1703)\" x1=\"733.131\" y1=\"1327.87\" x2=\"693.131\" y2=\"1327.87\" style=\"stroke:#000000; stroke-width:4; stroke-opacity:1\"/>\n",
       "<line clip-path=\"url(#clip1703)\" x1=\"733.131\" y1=\"1290.88\" x2=\"693.131\" y2=\"1290.88\" style=\"stroke:#000000; stroke-width:4; stroke-opacity:1\"/>\n",
       "<line clip-path=\"url(#clip1703)\" x1=\"954.331\" y1=\"1284.03\" x2=\"914.331\" y2=\"1284.03\" style=\"stroke:#000000; stroke-width:4; stroke-opacity:1\"/>\n",
       "<line clip-path=\"url(#clip1703)\" x1=\"954.331\" y1=\"1264.37\" x2=\"914.331\" y2=\"1264.37\" style=\"stroke:#000000; stroke-width:4; stroke-opacity:1\"/>\n",
       "<line clip-path=\"url(#clip1703)\" x1=\"1175.53\" y1=\"1256.4\" x2=\"1135.53\" y2=\"1256.4\" style=\"stroke:#000000; stroke-width:4; stroke-opacity:1\"/>\n",
       "<line clip-path=\"url(#clip1703)\" x1=\"1175.53\" y1=\"1221.76\" x2=\"1135.53\" y2=\"1221.76\" style=\"stroke:#000000; stroke-width:4; stroke-opacity:1\"/>\n",
       "<line clip-path=\"url(#clip1703)\" x1=\"1396.73\" y1=\"1211.57\" x2=\"1356.73\" y2=\"1211.57\" style=\"stroke:#000000; stroke-width:4; stroke-opacity:1\"/>\n",
       "<line clip-path=\"url(#clip1703)\" x1=\"1396.73\" y1=\"1135.45\" x2=\"1356.73\" y2=\"1135.45\" style=\"stroke:#000000; stroke-width:4; stroke-opacity:1\"/>\n",
       "<line clip-path=\"url(#clip1703)\" x1=\"1617.93\" y1=\"1161.86\" x2=\"1577.93\" y2=\"1161.86\" style=\"stroke:#000000; stroke-width:4; stroke-opacity:1\"/>\n",
       "<line clip-path=\"url(#clip1703)\" x1=\"1617.93\" y1=\"1143.08\" x2=\"1577.93\" y2=\"1143.08\" style=\"stroke:#000000; stroke-width:4; stroke-opacity:1\"/>\n",
       "<line clip-path=\"url(#clip1703)\" x1=\"1839.13\" y1=\"1099.56\" x2=\"1799.13\" y2=\"1099.56\" style=\"stroke:#000000; stroke-width:4; stroke-opacity:1\"/>\n",
       "<line clip-path=\"url(#clip1703)\" x1=\"1839.13\" y1=\"1075.68\" x2=\"1799.13\" y2=\"1075.68\" style=\"stroke:#000000; stroke-width:4; stroke-opacity:1\"/>\n",
       "<line clip-path=\"url(#clip1703)\" x1=\"2060.33\" y1=\"1012.66\" x2=\"2020.33\" y2=\"1012.66\" style=\"stroke:#000000; stroke-width:4; stroke-opacity:1\"/>\n",
       "<line clip-path=\"url(#clip1703)\" x1=\"2060.33\" y1=\"946.5\" x2=\"2020.33\" y2=\"946.5\" style=\"stroke:#000000; stroke-width:4; stroke-opacity:1\"/>\n",
       "<line clip-path=\"url(#clip1703)\" x1=\"2281.54\" y1=\"975.61\" x2=\"2241.54\" y2=\"975.61\" style=\"stroke:#000000; stroke-width:4; stroke-opacity:1\"/>\n",
       "<line clip-path=\"url(#clip1703)\" x1=\"2281.54\" y1=\"894.266\" x2=\"2241.54\" y2=\"894.266\" style=\"stroke:#000000; stroke-width:4; stroke-opacity:1\"/>\n",
       "<polygon clip-path=\"url(#clip1701)\" points=\"\n",
       "1969.16,390.944 2249.26,390.944 2249.26,209.504 1969.16,209.504 \n",
       "  \" fill=\"#ffffff\" fill-rule=\"evenodd\" fill-opacity=\"1\"/>\n",
       "<polyline clip-path=\"url(#clip1701)\" style=\"stroke:#000000; stroke-width:4; stroke-opacity:1; fill:none\" points=\"\n",
       "  1969.16,390.944 2249.26,390.944 2249.26,209.504 1969.16,209.504 1969.16,390.944 \n",
       "  \"/>\n",
       "<circle clip-path=\"url(#clip1701)\" style=\"fill:#000000; stroke:none; fill-opacity:1\" cx=\"2077.16\" cy=\"269.984\" r=\"25\"/>\n",
       "<circle clip-path=\"url(#clip1701)\" style=\"fill:#009af9; stroke:none; fill-opacity:1\" cx=\"2077.16\" cy=\"269.984\" r=\"21\"/>\n",
       "<g clip-path=\"url(#clip1701)\">\n",
       "<text style=\"fill:#000000; fill-opacity:1; font-family:Arial,Helvetica Neue,Helvetica,sans-serif; font-size:48px; text-anchor:start;\" transform=\"rotate(0, 2161.16, 287.484)\" x=\"2161.16\" y=\"287.484\">m</text>\n",
       "</g>\n",
       "<circle clip-path=\"url(#clip1701)\" style=\"fill:#000000; stroke:none; fill-opacity:1\" cx=\"2077.16\" cy=\"330.464\" r=\"25\"/>\n",
       "<circle clip-path=\"url(#clip1701)\" style=\"fill:#e26f46; stroke:none; fill-opacity:1\" cx=\"2077.16\" cy=\"330.464\" r=\"21\"/>\n",
       "<g clip-path=\"url(#clip1701)\">\n",
       "<text style=\"fill:#000000; fill-opacity:1; font-family:Arial,Helvetica Neue,Helvetica,sans-serif; font-size:48px; text-anchor:start;\" transform=\"rotate(0, 2161.16, 347.964)\" x=\"2161.16\" y=\"347.964\">v</text>\n",
       "</g>\n",
       "</svg>\n"
      ]
     },
     "execution_count": 6,
     "metadata": {},
     "output_type": "execute_result"
    }
   ],
   "source": [
    "using DataFrames\n",
    "using CSV\n",
    "using Statistics\n",
    "using Plots\n",
    "\n",
    "input = \"results.csv\"\n",
    "data = DataFrame()\n",
    "data = CSV.read(input, delim=\",\")\n",
    "\n",
    "my_df = by(data, [:Dim,:Type], avgTime = :Time => mean, stdDev = :Time => std)\n",
    "\n",
    "p=scatter(my_df[:Dim],my_df[:avgTime],group=my_df[:Type],title=\"Multiplication time\",yerr=my_df[:stdDev],xlabel=\"dim\",ylabel=\"time [ns]\",legend=true)\n",
    "\n",
    "plot(p)\n"
   ]
  },
  {
   "cell_type": "code",
   "execution_count": null,
   "metadata": {},
   "outputs": [],
   "source": []
  }
 ],
 "metadata": {
  "kernelspec": {
   "display_name": "Julia 1.0.3",
   "language": "julia",
   "name": "julia-1.0"
  },
  "language_info": {
   "file_extension": ".jl",
   "mimetype": "application/julia",
   "name": "julia",
   "version": "1.0.3"
  }
 },
 "nbformat": 4,
 "nbformat_minor": 2
}
